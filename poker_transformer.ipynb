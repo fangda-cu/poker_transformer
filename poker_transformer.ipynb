{
 "cells": [
  {
   "cell_type": "markdown",
   "id": "3fe189c3",
   "metadata": {},
   "source": [
    "## Poker infrastructure\n",
    "\n",
    "Here we define enums `SUITS`, `RANKS` and `HANDS` to represent the card and hand types, as well as a rule-based hand type classifier which will be used later for data generation."
   ]
  },
  {
   "cell_type": "code",
   "execution_count": 1,
   "id": "88e1b7b8",
   "metadata": {},
   "outputs": [],
   "source": [
    "import numpy as np\n",
    "from enum import Enum"
   ]
  },
  {
   "cell_type": "code",
   "execution_count": 2,
   "id": "6938e0d1",
   "metadata": {},
   "outputs": [],
   "source": [
    "SUITS = Enum(\"suit\", {\"clubs\":\"♣\", \"diamonds\":\"♦\", \"hearts\":\"♥\", \"spades\":\"♠\"})\n",
    "RANKS = Enum(\"rank\", {\"2\":0, \"3\":1, \"4\":2, \"5\":3, \"6\":4, \"7\":5, \"8\":6, \"9\":7, \"10\":8, \"J\":9, \"Q\":10, \"K\":11, \"A\":12})\n",
    "RANK_NAMES = [r for r in RANKS]  # list of rank enums to support value-to-name lookup"
   ]
  },
  {
   "cell_type": "code",
   "execution_count": 3,
   "id": "46201ffc",
   "metadata": {},
   "outputs": [],
   "source": [
    "class Card:\n",
    "    def __init__(self, rank, suit):\n",
    "        self.rank, self.suit = rank, suit\n",
    "        \n",
    "    def __repr__(self):\n",
    "        return \"{}{}\".format(self.rank.name, self.suit.value)\n",
    "\n",
    "\n",
    "class Deck:\n",
    "    def __init__(self):\n",
    "        self.cards_ = [Card(rank, suit) for rank in RANKS for suit in SUITS]\n",
    "    \n",
    "    def draw(self):\n",
    "        return self.cards_.pop(np.random.randint(len(self.cards_)))\n",
    "    \n",
    "    def __len__(self):\n",
    "        return len(self.cards_)"
   ]
  },
  {
   "cell_type": "code",
   "execution_count": 4,
   "id": "3b888dd7",
   "metadata": {},
   "outputs": [
    {
     "name": "stdout",
     "output_type": "stream",
     "text": [
      "[J♥, 5♠, A♦, A♠, 2♣]\n"
     ]
    }
   ],
   "source": [
    "deck = Deck()\n",
    "hand = []\n",
    "for i in range(5):\n",
    "    hand.append(deck.draw())\n",
    "print(hand)"
   ]
  },
  {
   "cell_type": "code",
   "execution_count": 5,
   "id": "6fdaaa82",
   "metadata": {},
   "outputs": [],
   "source": [
    "def make_card(shorthand):\n",
    "    assert len(shorthand) == 2 or len(shorthand) == 3\n",
    "    suit_dict = {\"C\":SUITS.clubs, \"D\":SUITS.diamonds, \"H\":SUITS.hearts, \"S\":SUITS.spades}\n",
    "    return Card(RANKS[shorthand[:-1].upper()], suit_dict[shorthand[-1].upper()])\n",
    "\n",
    "def make_hand(shorthand):\n",
    "    if isinstance(shorthand, str):\n",
    "        shorthand = shorthand.split(\" \")\n",
    "    assert len(shorthand) == 5\n",
    "    return [make_card(card_shorthand) for card_shorthand in shorthand]"
   ]
  },
  {
   "cell_type": "code",
   "execution_count": 6,
   "id": "2b4c3d75",
   "metadata": {},
   "outputs": [
    {
     "name": "stdout",
     "output_type": "stream",
     "text": [
      "J♣\n",
      "[J♠, 8♥, 9♦, Q♠, 10♠]\n"
     ]
    }
   ],
   "source": [
    "print(make_card(\"jc\"))\n",
    "print(make_hand(\"js 8h 9d qs 10s\"))"
   ]
  },
  {
   "cell_type": "code",
   "execution_count": 7,
   "id": "290aad2a",
   "metadata": {},
   "outputs": [],
   "source": [
    "def is_in_pair(hand):\n",
    "    return [len([c2 for c2 in hand if c2.rank == c1.rank]) == 2 for c1 in hand]\n",
    "\n",
    "def is_in_toak(hand):\n",
    "    return [len([c2 for c2 in hand if c2.rank == c1.rank]) == 3 for c1 in hand]\n",
    "\n",
    "def is_in_foak(hand):\n",
    "    return [len([c2 for c2 in hand if c2.rank == c1.rank]) == 4 for c1 in hand]"
   ]
  },
  {
   "cell_type": "code",
   "execution_count": 8,
   "id": "8564ff32",
   "metadata": {},
   "outputs": [
    {
     "name": "stdout",
     "output_type": "stream",
     "text": [
      "[False, False, True, True, False] [False, False, False, False, False] [False, False, False, False, False]\n"
     ]
    }
   ],
   "source": [
    "print(is_in_pair(hand), is_in_toak(hand), is_in_foak(hand))"
   ]
  },
  {
   "cell_type": "code",
   "execution_count": 9,
   "id": "e774ece5",
   "metadata": {},
   "outputs": [],
   "source": [
    "def next_rank(rank):\n",
    "    return RANK_NAMES[rank.value + 1] if rank != RANKS.A else None\n",
    "\n",
    "def next_n_rank(rank, n):\n",
    "    for i in range(n):\n",
    "        rank = next_rank(rank) if rank is not None else None\n",
    "    return rank\n",
    "\n",
    "def is_start_of_straight(hand):  # note that this does not consider valid straights like \"5432A\".\n",
    "    return [all([len([c2 for c2 in hand if c2.rank == next_n_rank(c1.rank, n)]) > 0 for n in range(1, 5)]) for c1 in hand]"
   ]
  },
  {
   "cell_type": "code",
   "execution_count": 10,
   "id": "f6957b76",
   "metadata": {},
   "outputs": [
    {
     "name": "stdout",
     "output_type": "stream",
     "text": [
      "rank.Q\n",
      "[False, False, False, True, False]\n",
      "[False, False, False, False, False]\n"
     ]
    }
   ],
   "source": [
    "print(next_rank(hand[0].rank))\n",
    "print(is_start_of_straight(make_hand(\"ah ks qs 10d jd\")))\n",
    "print(is_start_of_straight(make_hand(\"ah 5h 4h 3h 2h\")))"
   ]
  },
  {
   "cell_type": "code",
   "execution_count": 11,
   "id": "85f88faf",
   "metadata": {},
   "outputs": [],
   "source": [
    "def is_in_flush(hand):\n",
    "    return [len([c2 for c2 in hand if c2.suit == c1.suit]) == 5 for c1 in hand]"
   ]
  },
  {
   "cell_type": "code",
   "execution_count": 12,
   "id": "53938780",
   "metadata": {},
   "outputs": [
    {
     "name": "stdout",
     "output_type": "stream",
     "text": [
      "[False, False, False, False, False]\n"
     ]
    }
   ],
   "source": [
    "print(is_in_flush(hand))"
   ]
  },
  {
   "cell_type": "code",
   "execution_count": 13,
   "id": "1053ac00",
   "metadata": {},
   "outputs": [],
   "source": [
    "HANDS = Enum(\"hand\", {\"straight flush\":0, \"four of a kind\":1, \"full house\":2, \"flush\":3, \"straight\":4,\n",
    "                      \"three of a kind\":5, \"two pair\": 6, \"one pair\":7, \"high card\":8})\n",
    "HAND_NAMES = [r for r in HANDS]  # list of rank enums to support value-to-name lookup"
   ]
  },
  {
   "cell_type": "code",
   "execution_count": 14,
   "id": "d446d231",
   "metadata": {},
   "outputs": [],
   "source": [
    "def classify_hand(hand):\n",
    "    is_flush = any(is_in_flush(hand))  # can use all() here too\n",
    "    is_straight = any(is_start_of_straight(hand))\n",
    "    is_foak = any(is_in_foak(hand))\n",
    "    is_toak = any(is_in_toak(hand))\n",
    "    num_pairs = int(sum(is_in_pair(hand)) / 2)\n",
    "    \n",
    "    if is_flush and is_straight:\n",
    "        hand_type = HANDS[\"straight flush\"]\n",
    "    elif is_foak:\n",
    "        hand_type = HANDS[\"four of a kind\"]\n",
    "    elif is_toak and num_pairs == 1:\n",
    "        hand_type = HANDS[\"full house\"]\n",
    "    elif is_flush:\n",
    "        hand_type = HANDS[\"flush\"]\n",
    "    elif is_straight:\n",
    "        hand_type = HANDS[\"straight\"]\n",
    "    elif is_toak:\n",
    "        hand_type = HANDS[\"three of a kind\"]\n",
    "    elif num_pairs == 2:\n",
    "        hand_type = HANDS[\"two pair\"]\n",
    "    elif num_pairs == 1:\n",
    "        hand_type = HANDS[\"one pair\"]\n",
    "    else:\n",
    "        hand_type = HANDS[\"high card\"]\n",
    "    \n",
    "    details = {\n",
    "        \"hand_type\": hand_type,\n",
    "        \"is_flush\": is_flush,\n",
    "        \"is_straight\": is_straight,\n",
    "        \"is_foak\": is_foak,\n",
    "        \"is_toak\": is_toak,\n",
    "        \"is_one_pair\": num_pairs == 1,\n",
    "        \"is_two_pair\": num_pairs == 2,\n",
    "        \"is_in_flush\": is_in_flush(hand),\n",
    "        \"is_start_of_straight\": is_start_of_straight(hand),\n",
    "        \"is_in_foak\": is_in_foak(hand),\n",
    "        \"is_in_toak\": is_in_toak(hand),\n",
    "        \"is_in_pair\": is_in_pair(hand),\n",
    "    }\n",
    "    return hand_type, details"
   ]
  },
  {
   "cell_type": "code",
   "execution_count": 15,
   "id": "9c694a68",
   "metadata": {
    "tags": []
   },
   "outputs": [
    {
     "name": "stdout",
     "output_type": "stream",
     "text": [
      "hand.straight flush\n",
      "hand.four of a kind\n",
      "hand.full house\n",
      "hand.flush\n",
      "hand.straight\n",
      "hand.three of a kind\n",
      "hand.two pair\n",
      "hand.one pair\n",
      "hand.high card\n"
     ]
    }
   ],
   "source": [
    "print(classify_hand(make_hand(\"jc 10c 9c 8c 7c\"))[0])\n",
    "print(classify_hand(make_hand(\"5c 5d 5h 5s 2d\"))[0])\n",
    "print(classify_hand(make_hand(\"6s 6h 6d ks kh\"))[0])\n",
    "print(classify_hand(make_hand(\"jh 9h 8h 4h 3h\"))[0])\n",
    "print(classify_hand(make_hand(\"10d 9s 8h 7d 6c\"))[0])\n",
    "print(classify_hand(make_hand(\"qc qs qh 9h 2s\"))[0])\n",
    "print(classify_hand(make_hand(\"jh js 3c 3s 2h\"))[0])\n",
    "print(classify_hand(make_hand(\"10s 10h 8s 7h 4c\"))[0])\n",
    "print(classify_hand(make_hand(\"kd qd 7s 4s 3h\"))[0])"
   ]
  },
  {
   "cell_type": "code",
   "execution_count": 16,
   "id": "544a2731",
   "metadata": {
    "collapsed": true,
    "jupyter": {
     "outputs_hidden": true
    },
    "tags": []
   },
   "outputs": [
    {
     "name": "stdout",
     "output_type": "stream",
     "text": [
      "[9♦, 2♥, 9♥, A♥, 5♣]: (<hand.one pair: 7>, {'hand_type': <hand.one pair: 7>, 'is_flush': False, 'is_straight': False, 'is_foak': False, 'is_toak': False, 'is_one_pair': True, 'is_two_pair': False, 'is_in_flush': [False, False, False, False, False], 'is_start_of_straight': [False, False, False, False, False], 'is_in_foak': [False, False, False, False, False], 'is_in_toak': [False, False, False, False, False], 'is_in_pair': [True, False, True, False, False]})\n",
      "[9♣, 9♠, 8♥, K♦, 2♠]: (<hand.one pair: 7>, {'hand_type': <hand.one pair: 7>, 'is_flush': False, 'is_straight': False, 'is_foak': False, 'is_toak': False, 'is_one_pair': True, 'is_two_pair': False, 'is_in_flush': [False, False, False, False, False], 'is_start_of_straight': [False, False, False, False, False], 'is_in_foak': [False, False, False, False, False], 'is_in_toak': [False, False, False, False, False], 'is_in_pair': [True, True, False, False, False]})\n",
      "[9♣, 9♥, 3♥, 2♥, 8♦]: (<hand.one pair: 7>, {'hand_type': <hand.one pair: 7>, 'is_flush': False, 'is_straight': False, 'is_foak': False, 'is_toak': False, 'is_one_pair': True, 'is_two_pair': False, 'is_in_flush': [False, False, False, False, False], 'is_start_of_straight': [False, False, False, False, False], 'is_in_foak': [False, False, False, False, False], 'is_in_toak': [False, False, False, False, False], 'is_in_pair': [True, True, False, False, False]})\n",
      "[J♣, K♣, 7♥, 10♠, 10♥]: (<hand.one pair: 7>, {'hand_type': <hand.one pair: 7>, 'is_flush': False, 'is_straight': False, 'is_foak': False, 'is_toak': False, 'is_one_pair': True, 'is_two_pair': False, 'is_in_flush': [False, False, False, False, False], 'is_start_of_straight': [False, False, False, False, False], 'is_in_foak': [False, False, False, False, False], 'is_in_toak': [False, False, False, False, False], 'is_in_pair': [False, False, False, True, True]})\n",
      "[Q♦, J♠, K♣, 10♦, 10♥]: (<hand.one pair: 7>, {'hand_type': <hand.one pair: 7>, 'is_flush': False, 'is_straight': False, 'is_foak': False, 'is_toak': False, 'is_one_pair': True, 'is_two_pair': False, 'is_in_flush': [False, False, False, False, False], 'is_start_of_straight': [False, False, False, False, False], 'is_in_foak': [False, False, False, False, False], 'is_in_toak': [False, False, False, False, False], 'is_in_pair': [False, False, False, True, True]})\n",
      "[J♣, 2♠, 9♦, 3♥, 8♠]: (<hand.high card: 8>, {'hand_type': <hand.high card: 8>, 'is_flush': False, 'is_straight': False, 'is_foak': False, 'is_toak': False, 'is_one_pair': False, 'is_two_pair': False, 'is_in_flush': [False, False, False, False, False], 'is_start_of_straight': [False, False, False, False, False], 'is_in_foak': [False, False, False, False, False], 'is_in_toak': [False, False, False, False, False], 'is_in_pair': [False, False, False, False, False]})\n",
      "[5♦, 4♦, 2♦, Q♥, 8♠]: (<hand.high card: 8>, {'hand_type': <hand.high card: 8>, 'is_flush': False, 'is_straight': False, 'is_foak': False, 'is_toak': False, 'is_one_pair': False, 'is_two_pair': False, 'is_in_flush': [False, False, False, False, False], 'is_start_of_straight': [False, False, False, False, False], 'is_in_foak': [False, False, False, False, False], 'is_in_toak': [False, False, False, False, False], 'is_in_pair': [False, False, False, False, False]})\n",
      "[J♦, 4♥, 10♦, 9♣, Q♦]: (<hand.high card: 8>, {'hand_type': <hand.high card: 8>, 'is_flush': False, 'is_straight': False, 'is_foak': False, 'is_toak': False, 'is_one_pair': False, 'is_two_pair': False, 'is_in_flush': [False, False, False, False, False], 'is_start_of_straight': [False, False, False, False, False], 'is_in_foak': [False, False, False, False, False], 'is_in_toak': [False, False, False, False, False], 'is_in_pair': [False, False, False, False, False]})\n",
      "[Q♠, 8♦, 7♦, 4♠, 7♠]: (<hand.one pair: 7>, {'hand_type': <hand.one pair: 7>, 'is_flush': False, 'is_straight': False, 'is_foak': False, 'is_toak': False, 'is_one_pair': True, 'is_two_pair': False, 'is_in_flush': [False, False, False, False, False], 'is_start_of_straight': [False, False, False, False, False], 'is_in_foak': [False, False, False, False, False], 'is_in_toak': [False, False, False, False, False], 'is_in_pair': [False, False, True, False, True]})\n",
      "[8♥, 5♥, K♠, 2♠, 10♥]: (<hand.high card: 8>, {'hand_type': <hand.high card: 8>, 'is_flush': False, 'is_straight': False, 'is_foak': False, 'is_toak': False, 'is_one_pair': False, 'is_two_pair': False, 'is_in_flush': [False, False, False, False, False], 'is_start_of_straight': [False, False, False, False, False], 'is_in_foak': [False, False, False, False, False], 'is_in_toak': [False, False, False, False, False], 'is_in_pair': [False, False, False, False, False]})\n"
     ]
    }
   ],
   "source": [
    "def random_hand():\n",
    "    deck = Deck()\n",
    "    return [deck.draw() for _ in range(5)]\n",
    "\n",
    "for i in range(10):\n",
    "    hand = random_hand()\n",
    "    print(f\"{hand}: {classify_hand(hand)}\")"
   ]
  },
  {
   "cell_type": "code",
   "execution_count": null,
   "id": "fb0f4b35",
   "metadata": {},
   "outputs": [],
   "source": []
  },
  {
   "cell_type": "code",
   "execution_count": null,
   "id": "b654c5a5",
   "metadata": {},
   "outputs": [],
   "source": []
  },
  {
   "cell_type": "markdown",
   "id": "73bd83c2",
   "metadata": {},
   "source": [
    "## Dataset\n",
    "\n",
    "Using the rule-based hand classifier `classify_hand()` above, we generate two randomly-drawn datasets `ds10k` (10,000 hands) and `ds1M` (1,000,000 hands), as well as two balanced datasets `mds10k` (10,000 hands) and `mds1M` (1,000,000 hands).\n",
    "\n",
    "You can download the generated datasets here:\n",
    "- ds10k: [Google Drive](https://drive.google.com/file/d/1G1s8hDv951WbdYpHaWZVmCLFeRqK_w1y/view?usp=sharing)\n",
    "- ds1M: [Google Drive](https://drive.google.com/file/d/1PaUi7eU-VoHTtuWSywDK3Y9VDb4oQIny/view?usp=sharing)\n",
    "- mds10k: [Google Drive](https://drive.google.com/file/d/1zwpkT4iVL2q3XhCq1K-liMfMHmw4hUr1/view?usp=sharing)\n",
    "- mds1M: [Google Drive](https://drive.google.com/file/d/1np8Y_SSMt1PrJRCRYf3UQgaQ7a1Xb6j5/view?usp=sharing)"
   ]
  },
  {
   "cell_type": "code",
   "execution_count": 17,
   "id": "30d78ecf",
   "metadata": {},
   "outputs": [],
   "source": [
    "from tqdm import tqdm\n",
    "import torch"
   ]
  },
  {
   "cell_type": "code",
   "execution_count": 18,
   "id": "e750e90d",
   "metadata": {},
   "outputs": [],
   "source": [
    "def make_sample(hand):\n",
    "    hand_details = classify_hand(hand)[1]\n",
    "    return {\"hand\":hand, **hand_details}"
   ]
  },
  {
   "cell_type": "code",
   "execution_count": 19,
   "id": "24ae1286",
   "metadata": {},
   "outputs": [],
   "source": [
    "def generate_dataset(num=10000):\n",
    "    dataset = []\n",
    "    with tqdm(range(num)) as t:\n",
    "        for i in t:\n",
    "            hand = random_hand()\n",
    "            dataset.append(make_sample(hand))\n",
    "    return dataset       "
   ]
  },
  {
   "cell_type": "code",
   "execution_count": 20,
   "id": "9515a561",
   "metadata": {
    "collapsed": true,
    "jupyter": {
     "outputs_hidden": true
    },
    "tags": []
   },
   "outputs": [
    {
     "name": "stderr",
     "output_type": "stream",
     "text": [
      "100%|██████████| 5/5 [00:00<00:00, 3010.12it/s]"
     ]
    },
    {
     "name": "stdout",
     "output_type": "stream",
     "text": [
      "[{'hand': [7♠, 8♠, Q♦, K♠, 2♠], 'hand_type': <hand.high card: 8>, 'is_flush': False, 'is_straight': False, 'is_foak': False, 'is_toak': False, 'is_one_pair': False, 'is_two_pair': False, 'is_in_flush': [False, False, False, False, False], 'is_start_of_straight': [False, False, False, False, False], 'is_in_foak': [False, False, False, False, False], 'is_in_toak': [False, False, False, False, False], 'is_in_pair': [False, False, False, False, False]}, {'hand': [A♠, 6♠, J♠, K♥, K♠], 'hand_type': <hand.one pair: 7>, 'is_flush': False, 'is_straight': False, 'is_foak': False, 'is_toak': False, 'is_one_pair': True, 'is_two_pair': False, 'is_in_flush': [False, False, False, False, False], 'is_start_of_straight': [False, False, False, False, False], 'is_in_foak': [False, False, False, False, False], 'is_in_toak': [False, False, False, False, False], 'is_in_pair': [False, False, False, True, True]}, {'hand': [K♥, 9♠, 2♠, 7♣, 10♥], 'hand_type': <hand.high card: 8>, 'is_flush': False, 'is_straight': False, 'is_foak': False, 'is_toak': False, 'is_one_pair': False, 'is_two_pair': False, 'is_in_flush': [False, False, False, False, False], 'is_start_of_straight': [False, False, False, False, False], 'is_in_foak': [False, False, False, False, False], 'is_in_toak': [False, False, False, False, False], 'is_in_pair': [False, False, False, False, False]}, {'hand': [7♠, J♦, 9♦, 8♥, K♣], 'hand_type': <hand.high card: 8>, 'is_flush': False, 'is_straight': False, 'is_foak': False, 'is_toak': False, 'is_one_pair': False, 'is_two_pair': False, 'is_in_flush': [False, False, False, False, False], 'is_start_of_straight': [False, False, False, False, False], 'is_in_foak': [False, False, False, False, False], 'is_in_toak': [False, False, False, False, False], 'is_in_pair': [False, False, False, False, False]}, {'hand': [3♠, A♦, 6♦, J♠, 7♠], 'hand_type': <hand.high card: 8>, 'is_flush': False, 'is_straight': False, 'is_foak': False, 'is_toak': False, 'is_one_pair': False, 'is_two_pair': False, 'is_in_flush': [False, False, False, False, False], 'is_start_of_straight': [False, False, False, False, False], 'is_in_foak': [False, False, False, False, False], 'is_in_toak': [False, False, False, False, False], 'is_in_pair': [False, False, False, False, False]}]\n"
     ]
    },
    {
     "name": "stderr",
     "output_type": "stream",
     "text": [
      "\n"
     ]
    }
   ],
   "source": [
    "ds = generate_dataset(5)\n",
    "print(ds)"
   ]
  },
  {
   "cell_type": "code",
   "execution_count": 21,
   "id": "2ee222d3",
   "metadata": {
    "tags": []
   },
   "outputs": [
    {
     "name": "stderr",
     "output_type": "stream",
     "text": [
      "100%|██████████| 10000/10000 [00:02<00:00, 3924.04it/s]\n"
     ]
    }
   ],
   "source": [
    "ds10k = generate_dataset(10000)"
   ]
  },
  {
   "cell_type": "code",
   "execution_count": 22,
   "id": "d2b23e96",
   "metadata": {},
   "outputs": [
    {
     "name": "stderr",
     "output_type": "stream",
     "text": [
      "100%|██████████| 1000000/1000000 [04:24<00:00, 3785.44it/s]\n"
     ]
    }
   ],
   "source": [
    "ds1M = generate_dataset(1000000)"
   ]
  },
  {
   "cell_type": "code",
   "execution_count": 30,
   "id": "b8aab0aa",
   "metadata": {},
   "outputs": [
    {
     "data": {
      "text/plain": [
       "(array(['flush', 'four of a kind', 'full house', 'high card', 'one pair',\n",
       "        'straight', 'straight flush', 'three of a kind', 'two pair'],\n",
       "       dtype='<U15'),\n",
       " array([  12,    3,   19, 5096, 4150,   41,    1,  197,  481]))"
      ]
     },
     "execution_count": 30,
     "metadata": {},
     "output_type": "execute_result"
    }
   ],
   "source": [
    "np.unique([d[\"hand_type\"].name for d in ds10k], return_counts=True)"
   ]
  },
  {
   "cell_type": "code",
   "execution_count": 31,
   "id": "6c4254cd",
   "metadata": {},
   "outputs": [
    {
     "data": {
      "text/plain": [
       "(array(['flush', 'four of a kind', 'full house', 'high card', 'one pair',\n",
       "        'straight', 'straight flush', 'three of a kind', 'two pair'],\n",
       "       dtype='<U15'),\n",
       " array([  2002,    247,   1441, 502266, 421813,   3587,     16,  21124,\n",
       "         47504]))"
      ]
     },
     "execution_count": 31,
     "metadata": {},
     "output_type": "execute_result"
    }
   ],
   "source": [
    "np.unique([d[\"hand_type\"].name for d in ds1M], return_counts=True)"
   ]
  },
  {
   "cell_type": "code",
   "execution_count": 32,
   "id": "7f7c44e5",
   "metadata": {},
   "outputs": [],
   "source": [
    "def print_dataset_distribution(dataset, sort_by_count=False):\n",
    "    hand_types, counts = np.unique([d[\"hand_type\"].name for d in dataset], return_counts=True)\n",
    "    hands = [(t, c) for t, c in zip(hand_types, counts)]\n",
    "    if sort_by_count:\n",
    "        hands = sorted(hands, key=lambda item: item[1])\n",
    "    else:\n",
    "        hands = sorted(hands, key=lambda item: HANDS[item[0]].value)\n",
    "    for t, c in hands:\n",
    "        print(f\"{c / len(dataset) * 100:.4f}%: {t}\")"
   ]
  },
  {
   "cell_type": "code",
   "execution_count": 33,
   "id": "9c39c173",
   "metadata": {},
   "outputs": [
    {
     "name": "stdout",
     "output_type": "stream",
     "text": [
      "0.0016%: straight flush\n",
      "0.0247%: four of a kind\n",
      "0.1441%: full house\n",
      "0.2002%: flush\n",
      "0.3587%: straight\n",
      "2.1124%: three of a kind\n",
      "4.7504%: two pair\n",
      "42.1813%: one pair\n",
      "50.2266%: high card\n"
     ]
    }
   ],
   "source": [
    "print_dataset_distribution(ds1M)"
   ]
  },
  {
   "cell_type": "code",
   "execution_count": 34,
   "id": "c43ed49e",
   "metadata": {},
   "outputs": [],
   "source": [
    "def is_hand_valid(hand):\n",
    "    if len(hand) != 5:\n",
    "        return False\n",
    "    for i in range(5):\n",
    "        for j in range(i + 1, 5):\n",
    "            if hand[i].rank == hand[j].rank and hand[i].suit == hand[j].suit:\n",
    "                return False\n",
    "    return True"
   ]
  },
  {
   "cell_type": "code",
   "execution_count": 35,
   "id": "b361f156",
   "metadata": {},
   "outputs": [
    {
     "name": "stdout",
     "output_type": "stream",
     "text": [
      "False\n",
      "True\n"
     ]
    }
   ],
   "source": [
    "print(is_hand_valid(make_hand(\"4c 4c 5c 6c 10c\")))\n",
    "print(is_hand_valid(make_hand(\"3c 4c 5c 6c 10c\")))"
   ]
  },
  {
   "cell_type": "code",
   "execution_count": 36,
   "id": "645e1783",
   "metadata": {},
   "outputs": [],
   "source": [
    "def permute_hand(hand):\n",
    "    return [hand[i] for i in np.random.permutation(len(hand))]"
   ]
  },
  {
   "cell_type": "code",
   "execution_count": 37,
   "id": "5bf26be2",
   "metadata": {},
   "outputs": [],
   "source": [
    "def generate_random_hand_with_at_least_type(hand_type):\n",
    "    # Note that this could generate a higher type than hand_type, albeit not likely in general.\n",
    "    # e.g. when hand_type=HANDS[\"straight\"], it could potentially generate a straight flush.\n",
    "    if hand_type == HANDS[\"straight flush\"]:\n",
    "        start_rank = np.random.choice([r for r in RANKS if r not in [RANKS.J, RANKS.Q, RANKS.K, RANKS.A]])\n",
    "        suit = np.random.choice(SUITS)\n",
    "        hand = [Card(next_n_rank(start_rank, i), suit) for i in range(5)]\n",
    "    elif hand_type == HANDS[\"four of a kind\"]:\n",
    "        ranks = np.random.choice(RANKS, 2, replace=False)\n",
    "        hand = [Card(ranks[0], suit) for suit in SUITS]\n",
    "        hand.append(Card(ranks[1], np.random.choice(SUITS)))\n",
    "    elif hand_type == HANDS[\"full house\"]:\n",
    "        ranks = np.random.choice(RANKS, 2, replace=False)\n",
    "        suits3 = np.random.choice(SUITS, 3, replace=False)\n",
    "        suits2 = np.random.choice(SUITS, 2, replace=False)\n",
    "        hand = [Card(ranks[0], s) for s in suits3]\n",
    "        hand.extend([Card(ranks[1], s) for s in suits2])\n",
    "    elif hand_type == HANDS[\"flush\"]:\n",
    "        suit = np.random.choice(SUITS)\n",
    "        ranks = np.random.choice(RANKS, 5, replace=False)\n",
    "        hand = [Card(r, suit) for r in ranks]\n",
    "    elif hand_type == HANDS[\"straight\"]:\n",
    "        start_rank = np.random.choice([r for r in RANKS if r not in [RANKS.J, RANKS.Q, RANKS.K, RANKS.A]])\n",
    "        hand = [Card(next_n_rank(start_rank, i), np.random.choice(SUITS)) for i in range(5)]\n",
    "    elif hand_type == HANDS[\"three of a kind\"]:\n",
    "        ranks = np.random.choice(RANKS, 3, replace=False)\n",
    "        suits3 = np.random.choice(SUITS, 3, replace=False)\n",
    "        hand = [Card(ranks[0], s) for s in suits3]\n",
    "        hand.extend([Card(r, np.random.choice(SUITS)) for r in ranks[1:]])\n",
    "    elif hand_type == HANDS[\"two pair\"]:\n",
    "        ranks = np.random.choice(RANKS, 3, replace=False)\n",
    "        suits1 = np.random.choice(SUITS, 2, replace=False)\n",
    "        suits2 = np.random.choice(SUITS, 2, replace=False)\n",
    "        hand = [Card(ranks[0], s) for s in suits1]\n",
    "        hand.extend([Card(ranks[1], s) for s in suits2])\n",
    "        hand.append(Card(ranks[2], np.random.choice(SUITS)))\n",
    "    elif hand_type == HANDS[\"one pair\"]:\n",
    "        ranks = np.random.choice(RANKS, 4, replace=False)\n",
    "        suits = np.random.choice(SUITS, 2, replace=False)\n",
    "        hand = [Card(ranks[0], s) for s in suits]\n",
    "        hand.extend([Card(r, np.random.choice(SUITS)) for r in ranks[1:]])\n",
    "    elif hand_type == HANDS[\"high card\"]:\n",
    "        ranks = np.random.choice(RANKS, 5, replace=False)\n",
    "        hand = [Card(r, np.random.choice(SUITS)) for r in ranks]\n",
    "    hand = permute_hand(hand)\n",
    "    assert is_hand_valid(hand)\n",
    "    return hand        "
   ]
  },
  {
   "cell_type": "code",
   "execution_count": 38,
   "id": "4e80a74c",
   "metadata": {},
   "outputs": [
    {
     "name": "stdout",
     "output_type": "stream",
     "text": [
      "[4♦, 6♦, 7♦, 3♦, 5♦] hand.straight flush\n",
      "[6♣, 6♦, 6♠, 6♥, 5♣] hand.four of a kind\n",
      "[4♥, 2♥, 4♦, 2♣, 4♠] hand.full house\n",
      "[J♥, Q♥, 5♥, 4♥, 7♥] hand.flush\n",
      "[2♦, 5♦, 4♠, 6♦, 3♠] hand.straight\n",
      "[5♠, Q♠, 5♥, 5♦, A♦] hand.three of a kind\n",
      "[2♥, 3♦, 10♣, 10♦, 3♠] hand.two pair\n",
      "[J♦, A♦, 8♥, Q♣, 8♣] hand.one pair\n",
      "[2♣, 4♣, 8♥, J♠, 6♣] hand.high card\n"
     ]
    }
   ],
   "source": [
    "for hand_type in HANDS:\n",
    "    print(generate_random_hand_with_at_least_type(hand_type), hand_type)"
   ]
  },
  {
   "cell_type": "code",
   "execution_count": 39,
   "id": "7ba01b00",
   "metadata": {},
   "outputs": [],
   "source": [
    "def generate_mined_dataset(num=10000):\n",
    "    dataset = []\n",
    "    type_probs = {HANDS[\"straight flush\"]:0.01, HANDS[\"four of a kind\"]:0.1, HANDS[\"full house\"]:0.1,\n",
    "                  HANDS[\"flush\"]:0.1, HANDS[\"straight\"]:0.1, HANDS[\"three of a kind\"]:0.1, \n",
    "                  HANDS[\"two pair\"]:0.1, HANDS[\"one pair\"]:0.1, HANDS[\"high card\"]:0.1, None:0.19}\n",
    "    with tqdm(range(num)) as t:\n",
    "        for i in t:\n",
    "            target_type = np.random.choice(list(type_probs.keys()), p=list(type_probs.values()))\n",
    "            if target_type == None:\n",
    "                hand = random_hand()\n",
    "            else:\n",
    "                hand = generate_random_hand_with_at_least_type(target_type)\n",
    "            dataset.append(make_sample(hand))\n",
    "    return dataset"
   ]
  },
  {
   "cell_type": "code",
   "execution_count": 40,
   "id": "42752309",
   "metadata": {},
   "outputs": [
    {
     "name": "stderr",
     "output_type": "stream",
     "text": [
      "100%|██████████| 10000/10000 [00:03<00:00, 2888.62it/s]\n"
     ]
    }
   ],
   "source": [
    "mds10k = generate_mined_dataset(10000)"
   ]
  },
  {
   "cell_type": "code",
   "execution_count": 42,
   "id": "5a7ce0b1",
   "metadata": {
    "tags": []
   },
   "outputs": [
    {
     "name": "stderr",
     "output_type": "stream",
     "text": [
      "100%|██████████| 1000000/1000000 [06:03<00:00, 2754.16it/s]\n"
     ]
    }
   ],
   "source": [
    "mds1M = generate_mined_dataset(1000000)"
   ]
  },
  {
   "cell_type": "code",
   "execution_count": 47,
   "id": "3ec13438",
   "metadata": {},
   "outputs": [],
   "source": [
    "def serialize_dataset(dataset):\n",
    "    return [{**{k:v for k, v in d.items()}, \"hand\":[(c.rank.name, c.suit.name) for c in d[\"hand\"]], \n",
    "             \"hand_type\":d[\"hand_type\"].name} for d in dataset]\n",
    "\n",
    "def deserialize_dataset(dataset):\n",
    "    return [{**{k:v for k, v in d.items()}, \"hand\":[Card(RANKS[r], SUITS[s]) for r, s in d[\"hand\"]],\n",
    "             \"hand_type\":HANDS[d[\"hand_type\"]]} for d in dataset]  "
   ]
  },
  {
   "cell_type": "code",
   "execution_count": 48,
   "id": "65008857",
   "metadata": {
    "collapsed": true,
    "jupyter": {
     "outputs_hidden": true
    },
    "tags": []
   },
   "outputs": [
    {
     "name": "stdout",
     "output_type": "stream",
     "text": [
      "[{'hand': [K♦, Q♦, 8♠, Q♠, A♠], 'hand_type': <hand.one pair: 7>, 'is_flush': False, 'is_straight': False, 'is_foak': False, 'is_toak': False, 'is_one_pair': True, 'is_two_pair': False, 'is_in_flush': [False, False, False, False, False], 'is_start_of_straight': [False, False, False, False, False], 'is_in_foak': [False, False, False, False, False], 'is_in_toak': [False, False, False, False, False], 'is_in_pair': [False, True, False, True, False]}, {'hand': [Q♥, 7♥, 5♣, 10♣, 4♠], 'hand_type': <hand.high card: 8>, 'is_flush': False, 'is_straight': False, 'is_foak': False, 'is_toak': False, 'is_one_pair': False, 'is_two_pair': False, 'is_in_flush': [False, False, False, False, False], 'is_start_of_straight': [False, False, False, False, False], 'is_in_foak': [False, False, False, False, False], 'is_in_toak': [False, False, False, False, False], 'is_in_pair': [False, False, False, False, False]}]\n",
      "[{'hand': [('K', 'diamonds'), ('Q', 'diamonds'), ('8', 'spades'), ('Q', 'spades'), ('A', 'spades')], 'hand_type': 'one pair', 'is_flush': False, 'is_straight': False, 'is_foak': False, 'is_toak': False, 'is_one_pair': True, 'is_two_pair': False, 'is_in_flush': [False, False, False, False, False], 'is_start_of_straight': [False, False, False, False, False], 'is_in_foak': [False, False, False, False, False], 'is_in_toak': [False, False, False, False, False], 'is_in_pair': [False, True, False, True, False]}, {'hand': [('Q', 'hearts'), ('7', 'hearts'), ('5', 'clubs'), ('10', 'clubs'), ('4', 'spades')], 'hand_type': 'high card', 'is_flush': False, 'is_straight': False, 'is_foak': False, 'is_toak': False, 'is_one_pair': False, 'is_two_pair': False, 'is_in_flush': [False, False, False, False, False], 'is_start_of_straight': [False, False, False, False, False], 'is_in_foak': [False, False, False, False, False], 'is_in_toak': [False, False, False, False, False], 'is_in_pair': [False, False, False, False, False]}]\n",
      "[{'hand': [K♦, Q♦, 8♠, Q♠, A♠], 'hand_type': <hand.one pair: 7>, 'is_flush': False, 'is_straight': False, 'is_foak': False, 'is_toak': False, 'is_one_pair': True, 'is_two_pair': False, 'is_in_flush': [False, False, False, False, False], 'is_start_of_straight': [False, False, False, False, False], 'is_in_foak': [False, False, False, False, False], 'is_in_toak': [False, False, False, False, False], 'is_in_pair': [False, True, False, True, False]}, {'hand': [Q♥, 7♥, 5♣, 10♣, 4♠], 'hand_type': <hand.high card: 8>, 'is_flush': False, 'is_straight': False, 'is_foak': False, 'is_toak': False, 'is_one_pair': False, 'is_two_pair': False, 'is_in_flush': [False, False, False, False, False], 'is_start_of_straight': [False, False, False, False, False], 'is_in_foak': [False, False, False, False, False], 'is_in_toak': [False, False, False, False, False], 'is_in_pair': [False, False, False, False, False]}]\n"
     ]
    }
   ],
   "source": [
    "print(ds10k[:2])\n",
    "print(serialize_dataset(ds10k[:2]))\n",
    "print(deserialize_dataset(serialize_dataset(ds10k[:2])))"
   ]
  },
  {
   "cell_type": "code",
   "execution_count": 542,
   "id": "a34cf858",
   "metadata": {},
   "outputs": [],
   "source": [
    "torch.save(serialize_dataset(ds10k), \"/tmp/ds10k.pt\")\n",
    "torch.save(serialize_dataset(ds1M), \"/tmp/ds1M.pt\")\n",
    "torch.save(serialize_dataset(mds10k), \"/tmp/mds10k.pt\")\n",
    "torch.save(serialize_dataset(mds1M), \"/tmp/mds1M.pt\")"
   ]
  },
  {
   "cell_type": "code",
   "execution_count": 44,
   "id": "b7cb9ed7",
   "metadata": {},
   "outputs": [],
   "source": [
    "ds10k = deserialize_dataset(torch.load(\"/tmp/ds10k.pt\"))\n",
    "ds1M = deserialize_dataset(torch.load(\"/tmp/ds1M.pt\"))\n",
    "mds10k = deserialize_dataset(torch.load(\"/tmp/mds10k.pt\"))\n",
    "mds1M = deserialize_dataset(torch.load(\"/tmp/mds1M.pt\"))"
   ]
  },
  {
   "cell_type": "code",
   "execution_count": 49,
   "id": "0046c9ab",
   "metadata": {},
   "outputs": [
    {
     "name": "stdout",
     "output_type": "stream",
     "text": [
      "1.0953%: straight flush\n",
      "9.9918%: four of a kind\n",
      "10.0277%: full house\n",
      "9.9835%: flush\n",
      "10.0899%: straight\n",
      "10.4068%: three of a kind\n",
      "10.9183%: two pair\n",
      "18.0493%: one pair\n",
      "19.4374%: high card\n"
     ]
    }
   ],
   "source": [
    "print_dataset_distribution(mds1M)"
   ]
  },
  {
   "cell_type": "code",
   "execution_count": null,
   "id": "e95d72c6",
   "metadata": {},
   "outputs": [],
   "source": []
  },
  {
   "cell_type": "code",
   "execution_count": null,
   "id": "9c52f093",
   "metadata": {},
   "outputs": [],
   "source": []
  },
  {
   "cell_type": "markdown",
   "id": "67463de8",
   "metadata": {},
   "source": [
    "## Model\n",
    "\n",
    "The model is structured as follows:\n",
    "- A single-layer Transformer encoder layer with 6 heads\n",
    "- Five classifiers building on top of the Transformer encoding that output per-card binary classifications for the following intermediate labels:\n",
    "  - `is_in_pair`\n",
    "  - `is_in_toak`\n",
    "  - `is_in_foak`\n",
    "  - `is_start_of_straight`\n",
    "  - `is_in_flush`\n",
    "- A final classifier that takes the outputs of the five classifiers and classifies the hand into one of the 9 types.\n"
   ]
  },
  {
   "cell_type": "code",
   "execution_count": 50,
   "id": "4ca2a155",
   "metadata": {},
   "outputs": [],
   "source": [
    "import torch\n",
    "import torch.nn as nn\n",
    "\n",
    "DEVICE = \"cuda\""
   ]
  },
  {
   "cell_type": "code",
   "execution_count": 51,
   "id": "1940fe00",
   "metadata": {},
   "outputs": [],
   "source": [
    "NC = 17  # 17 = len(RANKS) + len(SUITS)\n",
    "\n",
    "def encode_hand(hand):\n",
    "    suit_map = {SUITS[\"clubs\"]:0, SUITS[\"diamonds\"]:1, SUITS[\"hearts\"]:2, SUITS[\"spades\"]:3}\n",
    "    x = torch.zeros([5, NC])\n",
    "    for i, c in enumerate(hand):\n",
    "        x[i, c.rank.value] = 1\n",
    "        x[i, len(RANKS) + suit_map[c.suit]] = 1\n",
    "    return x  # [5, NC]"
   ]
  },
  {
   "cell_type": "code",
   "execution_count": 52,
   "id": "19a3586e",
   "metadata": {},
   "outputs": [],
   "source": [
    "class MultiHeadedAttentionBackbone(nn.Module):\n",
    "    def __init__(self, num_heads=8, feature_size=32, kdim=32, vdim=32, hidden_size=32):\n",
    "        super(MultiHeadedAttentionBackbone, self).__init__()\n",
    "        self.num_heads = num_heads\n",
    "        self.feature_size = feature_size\n",
    "        self.kdim, self.vdim = kdim, vdim\n",
    "        self.proj_key = nn.Linear(NC, kdim)\n",
    "        self.proj_query = nn.Linear(NC, kdim)\n",
    "        self.proj_value = nn.Linear(NC, vdim)\n",
    "        self.linear1 = nn.Linear(vdim, hidden_size)\n",
    "        self.linear2 = nn.Linear(hidden_size, feature_size)\n",
    "        self.act = nn.ReLU()\n",
    "    \n",
    "    def forward(self, x):  # [B, 5, NC] -> [B, 5, feature_size]\n",
    "        x = x.view(-1, NC)  # [B * 5, NC]\n",
    "        key, query, value = self.proj_key(x), self.proj_query(x), self.proj_value(x)  # [B * 5, kdim/vdim]\n",
    "        key = key.view(-1, 5, self.num_heads, self.kdim // self.num_heads).transpose(1, 2)  # [B, nh, 5, kdim / nh]\n",
    "        query = query.view(-1, 5, self.num_heads, self.kdim // self.num_heads).transpose(1, 2)  # [B, nh, 5, kdim / nh]\n",
    "        value = value.view(-1, 5, self.num_heads, self.vdim // self.num_heads).transpose(1, 2)  # [B, nh, 5, vdim / nh]\n",
    "        attention = torch.matmul(query, key.transpose(-1, -2))  # [B, nh, 5, 5]\n",
    "        x = torch.matmul(attention, value)  # [B, nh, 5, vdim / nh]\n",
    "        x = x.transpose(1, 2).reshape(-1, 5, self.vdim)  # [B, 5, vdim]\n",
    "        return self.linear2(self.act(self.linear1(x)))"
   ]
  },
  {
   "cell_type": "code",
   "execution_count": 53,
   "id": "790aa160",
   "metadata": {},
   "outputs": [],
   "source": [
    "class BinaryPredictor(nn.Module):\n",
    "    def __init__(self, feature_size=32, hidden_size=16):\n",
    "        super(BinaryPredictor, self).__init__()\n",
    "        self.feature_size = feature_size\n",
    "        self.hidden_size = hidden_size\n",
    "        self.linear1 = nn.Linear(feature_size, hidden_size)\n",
    "        self.linear2 = nn.Linear(hidden_size, 1)\n",
    "        self.act = nn.ReLU()\n",
    "        \n",
    "    def forward(self, x):  # [B * 5, feature_size] -> [B * 5]\n",
    "        return self.linear2(self.act(self.linear1(x))).squeeze(dim=-1)"
   ]
  },
  {
   "cell_type": "code",
   "execution_count": 54,
   "id": "0b1023fd",
   "metadata": {},
   "outputs": [],
   "source": [
    "class TypePredictor(nn.Module):\n",
    "    def __init__(self, hidden_size=32):\n",
    "        super(TypePredictor, self).__init__()\n",
    "        self.hidden_size = hidden_size\n",
    "        self.linear1 = nn.Linear(25, hidden_size)\n",
    "        self.linear2 = nn.Linear(hidden_size, 9)\n",
    "        self.act = nn.ReLU()\n",
    "        \n",
    "    def forward(self, x):  # [B, 5, 5] -> [B, 9]\n",
    "        return self.linear2(self.act(self.linear1(x.view(-1, 25))))  # [B, 25] -> [B, 9]"
   ]
  },
  {
   "cell_type": "code",
   "execution_count": 55,
   "id": "aecdd7c2",
   "metadata": {},
   "outputs": [],
   "source": [
    "class HandClassifier(nn.Module):\n",
    "    def __init__(self, backbone=MultiHeadedAttentionBackbone, \n",
    "                 binary_predictor=BinaryPredictor, type_predictor=TypePredictor, \n",
    "                 binary_loss=nn.BCEWithLogitsLoss, type_loss=nn.CrossEntropyLoss, loss_weights=None):\n",
    "        super(HandClassifier, self).__init__()\n",
    "        if loss_weights is not None:\n",
    "            self.loss_weights = loss_weights\n",
    "        else:\n",
    "            self.loss_weights = {k:1.0 for k in [\"pair\", \"toak\", \"foak\", \"sofs\", \"flush\", \"type\"]}\n",
    "\n",
    "        self.backbone = backbone()\n",
    "        self.c = self.backbone.feature_size\n",
    "        self.pred_pair = binary_predictor(feature_size=self.c)\n",
    "        self.pred_toak = binary_predictor(feature_size=self.c)\n",
    "        self.pred_foak = binary_predictor(feature_size=self.c)\n",
    "        self.pred_sofs = binary_predictor(feature_size=self.c)\n",
    "        self.pred_flush = binary_predictor(feature_size=self.c)\n",
    "        self.pred_type = type_predictor()\n",
    "        self.binary_loss = binary_loss()\n",
    "        self.type_loss = type_loss()\n",
    "    \n",
    "    def forward(self, batch):\n",
    "        batch_size = len(batch)\n",
    "        x = torch.stack([encode_hand(h[\"hand\"]) for h in batch]).to(DEVICE)  # [B, 5, NC]\n",
    "        labels = {k:torch.stack([torch.tensor(h[k], dtype=torch.float) for h in batch], dim=0).to(DEVICE) \n",
    "                  for k in batch[0].keys() if k != \"hand\" and k != \"hand_type\"}  # [B, 5]\n",
    "        labels[\"hand_type\"] = torch.stack([torch.tensor(h[\"hand_type\"].value) for h in batch]).to(DEVICE)  # [B]\n",
    "        \n",
    "        features = self.backbone(x)  # [B, 5, C]\n",
    "        features = features.view([batch_size * 5, -1])  # [B * 5, C]\n",
    "        y_pair = self.pred_pair(features).view([batch_size, 5])  # [B, 5]\n",
    "        y_toak = self.pred_toak(features).view([batch_size, 5])  # [B, 5]\n",
    "        y_foak = self.pred_foak(features).view([batch_size, 5])  # [B, 5]\n",
    "        y_sofs = self.pred_sofs(features).view([batch_size, 5])  # [B, 5]\n",
    "        y_flush = self.pred_flush(features).view([batch_size, 5])  # [B, 5]\n",
    "        y_type = self.pred_type(torch.where(\n",
    "            torch.stack([y_pair, y_toak, y_foak, y_sofs, y_flush], dim=-1) > 0.0,\n",
    "            1.0, -1.0))  # [B, 9] for logits of 9 types\n",
    "        preds = {\"pair\":y_pair, \"toak\":y_toak, \"foak\":y_foak, \"sofs\":y_sofs, \"flush\":y_flush, \"type\":y_type}\n",
    "        \n",
    "        l_pair = self.binary_loss(y_pair.flatten(), labels[\"is_in_pair\"].flatten())  # [B * 5], [B * 5]\n",
    "        l_toak = self.binary_loss(y_toak.flatten(), labels[\"is_in_toak\"].flatten())  # [B * 5], [B * 5]\n",
    "        l_foak = self.binary_loss(y_foak.flatten(), labels[\"is_in_foak\"].flatten())  # [B * 5], [B * 5]\n",
    "        l_sofs = self.binary_loss(y_sofs.flatten(), labels[\"is_start_of_straight\"].flatten())  # [B * 5], [B * 5]\n",
    "        l_flush = self.binary_loss(y_flush.flatten(), labels[\"is_in_flush\"].flatten())  # [B * 5], [B * 5]\n",
    "        l_type = self.type_loss(y_type, labels[\"hand_type\"])  # [B, 9], [B]\n",
    "        losses = {\"pair\":l_pair, \"toak\":l_toak, \"foak\":l_foak, \"sofs\":l_sofs, \"flush\":l_flush, \"type\":l_type}\n",
    "        loss = sum([losses[k] * self.loss_weights[k] for k in losses])\n",
    "        \n",
    "        return preds, loss, losses"
   ]
  },
  {
   "cell_type": "code",
   "execution_count": null,
   "id": "d47502dc",
   "metadata": {},
   "outputs": [],
   "source": []
  },
  {
   "cell_type": "code",
   "execution_count": null,
   "id": "34f99808",
   "metadata": {},
   "outputs": [],
   "source": []
  },
  {
   "cell_type": "markdown",
   "id": "7e09d4e5",
   "metadata": {},
   "source": [
    "## Training\n",
    "\n",
    "Training using the balanced dataset `mds1M` for 10 epochs, evaluating with `mds10k` after each epoch.\n",
    "\n",
    "The trained model parameters can be downloaded here:\n",
    "- trained_model.pt: [Google Drive](https://drive.google.com/file/d/1ogqoOWLlPfH7XtrdVCRcgjS8bBv1Fl4K/view?usp=sharing)"
   ]
  },
  {
   "cell_type": "code",
   "execution_count": 56,
   "id": "b61777be",
   "metadata": {},
   "outputs": [],
   "source": [
    "from timeit import default_timer as timer\n",
    "from torch.utils.data import DataLoader"
   ]
  },
  {
   "cell_type": "code",
   "execution_count": 57,
   "id": "c3d38dd7",
   "metadata": {},
   "outputs": [],
   "source": [
    "def collate_losses(losses_history, loss_history):\n",
    "    losses = {k:np.array([l[k] for l in losses_history]) for k in losses_history[0]}\n",
    "    losses[\"total\"] = np.array(loss_history)\n",
    "    return losses"
   ]
  },
  {
   "cell_type": "code",
   "execution_count": 58,
   "id": "1b2a64d8",
   "metadata": {},
   "outputs": [],
   "source": [
    "def collate_data(batch):\n",
    "    return batch"
   ]
  },
  {
   "cell_type": "code",
   "execution_count": 59,
   "id": "f3b20dd0",
   "metadata": {},
   "outputs": [],
   "source": [
    "def train_epoch(model, optimizer, dataset, batch_size=16):\n",
    "    model.train()\n",
    "    losses_history = []\n",
    "    loss_history = []\n",
    "    train_dataloader = DataLoader(dataset, batch_size=batch_size, collate_fn=collate_data)\n",
    "\n",
    "    with tqdm(train_dataloader) as t:\n",
    "        for batch in t:\n",
    "            pred, loss, losses = model(batch)\n",
    "\n",
    "            optimizer.zero_grad()\n",
    "            loss.backward()\n",
    "\n",
    "            optimizer.step()\n",
    "            losses_history.append({k:v.item() for k, v in losses.items()})\n",
    "            loss_history.append(loss.item())\n",
    "\n",
    "    return collate_losses(losses_history, loss_history)"
   ]
  },
  {
   "cell_type": "code",
   "execution_count": 60,
   "id": "5fa31759",
   "metadata": {},
   "outputs": [],
   "source": [
    "def evaluate(model, dataset):\n",
    "    model.eval()\n",
    "    losses_history = []\n",
    "    loss_history = []\n",
    "    val_dataloader = DataLoader(dataset, batch_size=16, collate_fn=collate_data)\n",
    "\n",
    "    with torch.no_grad():\n",
    "        with tqdm(val_dataloader) as t:\n",
    "            for batch in val_dataloader:\n",
    "                pred, loss, losses = model(batch)\n",
    "                losses_history.append({k:v.item() for k, v in losses.items()})\n",
    "                loss_history.append(loss.item())\n",
    "\n",
    "    return collate_losses(losses_history, loss_history)"
   ]
  },
  {
   "cell_type": "code",
   "execution_count": null,
   "id": "c231ff5e",
   "metadata": {},
   "outputs": [],
   "source": []
  },
  {
   "cell_type": "code",
   "execution_count": 61,
   "id": "1b61834f",
   "metadata": {},
   "outputs": [],
   "source": [
    "model = HandClassifier().to(DEVICE)\n",
    "optimizer = torch.optim.Adam(model.parameters(), lr=0.0001, betas=(0.9, 0.98), eps=1e-9)"
   ]
  },
  {
   "cell_type": "code",
   "execution_count": 62,
   "id": "c9a575f5",
   "metadata": {},
   "outputs": [],
   "source": [
    "EPOCHS = 10"
   ]
  },
  {
   "cell_type": "code",
   "execution_count": 63,
   "id": "a23f450f",
   "metadata": {
    "scrolled": true,
    "tags": []
   },
   "outputs": [
    {
     "name": "stderr",
     "output_type": "stream",
     "text": [
      "100%|██████████| 3907/3907 [01:05<00:00, 59.82it/s]\n",
      "  0%|          | 0/625 [00:01<?, ?it/s]\n",
      "  0%|          | 7/3907 [00:00<01:04, 60.10it/s]"
     ]
    },
    {
     "name": "stdout",
     "output_type": "stream",
     "text": [
      "Epoch 0: train loss: 3.2327789754430625, time: 65.315s; eval time:1.354s\n",
      "Eval losses:\n",
      "  pair: 0.17626495567560196\n",
      "  toak: 0.14021759887039661\n",
      "  foak: 0.010860708715835493\n",
      "  sofs: 0.09654889646172524\n",
      "  flush: 0.030597994036832825\n",
      "  type: 1.0309969388008118\n",
      "  total: 1.4854870942115783\n"
     ]
    },
    {
     "name": "stderr",
     "output_type": "stream",
     "text": [
      "100%|██████████| 3907/3907 [01:05<00:00, 59.35it/s]\n",
      "  0%|          | 0/625 [00:01<?, ?it/s]\n",
      "  0%|          | 7/3907 [00:00<01:04, 60.73it/s]"
     ]
    },
    {
     "name": "stdout",
     "output_type": "stream",
     "text": [
      "Epoch 1: train loss: 0.5758888616048072, time: 65.832s; eval time:1.377s\n",
      "Eval losses:\n",
      "  pair: 0.0008964573390097939\n",
      "  toak: 0.0002534146185711279\n",
      "  foak: 2.9855095651456053e-06\n",
      "  sofs: 0.07696698193103076\n",
      "  flush: 0.0035200736076715176\n",
      "  type: 0.2275260203510523\n",
      "  total: 0.30916593297123907\n"
     ]
    },
    {
     "name": "stderr",
     "output_type": "stream",
     "text": [
      "100%|██████████| 3907/3907 [01:05<00:00, 59.55it/s]\n",
      "  0%|          | 0/625 [00:01<?, ?it/s]\n",
      "  0%|          | 7/3907 [00:00<01:04, 60.35it/s]"
     ]
    },
    {
     "name": "stdout",
     "output_type": "stream",
     "text": [
      "Epoch 2: train loss: 0.2899755928174352, time: 65.610s; eval time:1.356s\n",
      "Eval losses:\n",
      "  pair: 0.0003478460978536987\n",
      "  toak: 0.0004278624134446801\n",
      "  foak: 3.9139058614122744e-05\n",
      "  sofs: 0.03892876878529787\n",
      "  flush: 0.0061080940746409285\n",
      "  type: 0.21606109404861926\n",
      "  total: 0.26191280455887317\n"
     ]
    },
    {
     "name": "stderr",
     "output_type": "stream",
     "text": [
      "100%|██████████| 3907/3907 [01:07<00:00, 58.21it/s]\n",
      "  0%|          | 0/625 [00:01<?, ?it/s]\n",
      "  0%|          | 6/3907 [00:00<01:06, 58.62it/s]"
     ]
    },
    {
     "name": "stdout",
     "output_type": "stream",
     "text": [
      "Epoch 3: train loss: 0.18898900623841147, time: 67.126s; eval time:1.440s\n",
      "Eval losses:\n",
      "  pair: 0.00031238914864568413\n",
      "  toak: 0.00023700149800325612\n",
      "  foak: 2.7471535365964785e-05\n",
      "  sofs: 0.017522205374660007\n",
      "  flush: 0.001887308512669182\n",
      "  type: 0.07129649670124054\n",
      "  total: 0.09128287282735109\n"
     ]
    },
    {
     "name": "stderr",
     "output_type": "stream",
     "text": [
      "100%|██████████| 3907/3907 [01:06<00:00, 58.86it/s]\n",
      "  0%|          | 0/625 [00:01<?, ?it/s]\n",
      "  0%|          | 6/3907 [00:00<01:11, 54.63it/s]"
     ]
    },
    {
     "name": "stdout",
     "output_type": "stream",
     "text": [
      "Epoch 4: train loss: 0.04674918251505419, time: 66.382s; eval time:1.380s\n",
      "Eval losses:\n",
      "  pair: 0.0001826443112885954\n",
      "  toak: 0.00010746970938275951\n",
      "  foak: 7.742229638501285e-06\n",
      "  sofs: 0.008484614562388743\n",
      "  flush: 0.0008494839529497935\n",
      "  type: 0.012590069139935076\n",
      "  total: 0.022222023960389196\n"
     ]
    },
    {
     "name": "stderr",
     "output_type": "stream",
     "text": [
      "100%|██████████| 3907/3907 [01:05<00:00, 59.22it/s]\n",
      "  0%|          | 0/625 [00:01<?, ?it/s]\n",
      "  0%|          | 6/3907 [00:00<01:05, 59.33it/s]"
     ]
    },
    {
     "name": "stdout",
     "output_type": "stream",
     "text": [
      "Epoch 5: train loss: 0.013606977452315906, time: 65.973s; eval time:1.386s\n",
      "Eval losses:\n",
      "  pair: 9.928752578484818e-05\n",
      "  toak: 4.522226110883736e-05\n",
      "  foak: 3.301297513674939e-06\n",
      "  sofs: 0.005914230295699545\n",
      "  flush: 0.0004717644658461559\n",
      "  type: 0.003794745466738823\n",
      "  total: 0.010328551337413956\n"
     ]
    },
    {
     "name": "stderr",
     "output_type": "stream",
     "text": [
      "100%|██████████| 3907/3907 [01:05<00:00, 59.38it/s]\n",
      "  0%|          | 0/625 [00:01<?, ?it/s]\n",
      "  0%|          | 6/3907 [00:00<01:05, 59.81it/s]"
     ]
    },
    {
     "name": "stdout",
     "output_type": "stream",
     "text": [
      "Epoch 6: train loss: 0.008455526402799615, time: 65.803s; eval time:1.326s\n",
      "Eval losses:\n",
      "  pair: 6.155378279867847e-05\n",
      "  toak: 2.7467006290693162e-05\n",
      "  foak: 1.5026298570425922e-06\n",
      "  sofs: 0.004648981631765865\n",
      "  flush: 0.0002879352529573243\n",
      "  type: 0.001678982823208571\n",
      "  total: 0.006706423136372177\n"
     ]
    },
    {
     "name": "stderr",
     "output_type": "stream",
     "text": [
      "100%|██████████| 3907/3907 [01:05<00:00, 59.21it/s]\n",
      "  0%|          | 0/625 [00:01<?, ?it/s]\n",
      "  0%|          | 6/3907 [00:00<01:06, 58.63it/s]"
     ]
    },
    {
     "name": "stdout",
     "output_type": "stream",
     "text": [
      "Epoch 7: train loss: 0.006176574672331558, time: 65.994s; eval time:1.365s\n",
      "Eval losses:\n",
      "  pair: 4.0927081141554565e-05\n",
      "  toak: 1.7984007946623847e-05\n",
      "  foak: 1.3296369718275968e-06\n",
      "  sofs: 0.0034598687237328376\n",
      "  flush: 0.0001748335982263473\n",
      "  type: 0.00017881288347396094\n",
      "  total: 0.0038737559535948094\n"
     ]
    },
    {
     "name": "stderr",
     "output_type": "stream",
     "text": [
      "100%|██████████| 3907/3907 [01:06<00:00, 58.79it/s]\n",
      "  0%|          | 0/625 [00:01<?, ?it/s]\n",
      "  0%|          | 6/3907 [00:00<01:07, 58.20it/s]"
     ]
    },
    {
     "name": "stdout",
     "output_type": "stream",
     "text": [
      "Epoch 8: train loss: 0.0049157091768614386, time: 66.461s; eval time:1.389s\n",
      "Eval losses:\n",
      "  pair: 5.302976056605502e-05\n",
      "  toak: 1.538497289417009e-05\n",
      "  foak: 1.4529387347703703e-06\n",
      "  sofs: 0.0029448354291554024\n",
      "  flush: 0.00011595185719859629\n",
      "  type: 0.00011014274632542395\n",
      "  total: 0.003240797678726449\n"
     ]
    },
    {
     "name": "stderr",
     "output_type": "stream",
     "text": [
      "100%|██████████| 3907/3907 [01:06<00:00, 58.92it/s]\n",
      "  0%|          | 0/625 [00:01<?, ?it/s]"
     ]
    },
    {
     "name": "stdout",
     "output_type": "stream",
     "text": [
      "Epoch 9: train loss: 0.0040780217000469235, time: 66.319s; eval time:1.363s\n",
      "Eval losses:\n",
      "  pair: 5.4882844384809456e-05\n",
      "  toak: 1.2831331505153187e-05\n",
      "  foak: 1.2235363135744136e-06\n",
      "  sofs: 0.0026504645480689326\n",
      "  flush: 8.036554988575659e-05\n",
      "  type: 0.0008702795249988313\n",
      "  total: 0.0036700473625056475\n"
     ]
    },
    {
     "name": "stderr",
     "output_type": "stream",
     "text": [
      "\n"
     ]
    }
   ],
   "source": [
    "for epoch in range(EPOCHS):\n",
    "    t0 = timer()\n",
    "    train_losses = train_epoch(model, optimizer, mds1M, batch_size=256)\n",
    "    t1 = timer()\n",
    "    eval_losses = evaluate(model, mds10k)\n",
    "    t2 = timer()\n",
    "    print(\"Epoch {}: train loss: {}, time: {:.3f}s; eval time:{:.3f}s\".format(\n",
    "        epoch, train_losses[\"total\"].mean(), t1 - t0, t2 - t1))\n",
    "    print(\"Eval losses:\")\n",
    "    for k, v in eval_losses.items():\n",
    "        print(f\"  {k}: {v.mean()}\")\n",
    "\n",
    "torch.save(model.state_dict(), \"/tmp/model.pt\")  # full_model_rc1.pt"
   ]
  },
  {
   "cell_type": "code",
   "execution_count": null,
   "id": "e29f9901",
   "metadata": {},
   "outputs": [],
   "source": []
  },
  {
   "cell_type": "code",
   "execution_count": null,
   "id": "78c2e3b7",
   "metadata": {},
   "outputs": [],
   "source": []
  },
  {
   "cell_type": "markdown",
   "id": "aa748ee1",
   "metadata": {},
   "source": [
    "## Evaluation\n",
    "\n",
    "Detailed evaluation of the `HandClassifier` model, including accuracies in the intermediate outputs and per-class accuracy in the hand type classification."
   ]
  },
  {
   "cell_type": "code",
   "execution_count": 64,
   "id": "2403730d-bd26-4154-9124-d725fb41ab25",
   "metadata": {},
   "outputs": [],
   "source": [
    "model.load_state_dict(torch.load(\"/tmp/model.pt\"))\n",
    "model = model.eval()"
   ]
  },
  {
   "cell_type": "code",
   "execution_count": 65,
   "id": "db584b41",
   "metadata": {
    "scrolled": true,
    "tags": []
   },
   "outputs": [
    {
     "name": "stdout",
     "output_type": "stream",
     "text": [
      "hand:  [J♥, 9♠, 2♦, J♣, J♦]\n",
      "pred:  {'pair': tensor([ -55.0838,  -68.2008, -160.5719,  -51.9155,  -54.4946]), 'toak': tensor([  27.3604, -149.6196, -205.8250,   25.1986,   20.6010]), 'foak': tensor([ -79.0714, -345.9962, -392.5587,  -72.1998,  -53.8967]), 'sofs': tensor([-239.7527,  -49.4829, -131.1804, -230.2635, -224.4551]), 'flush': tensor([-143.4251, -111.5795,  -76.0997, -134.4922, -121.8825]), 'type': tensor([-62.4672, -15.0344,  -9.3527, -20.4145, -16.3644,  13.5573, -89.3692,\n",
      "        -30.0189,  -4.0962])}\n",
      "pred results:\n",
      "  pair: [1.1951634e-24 2.4031069e-30 0.0000000e+00 2.8404978e-23 2.1541788e-24]\n",
      "  toak: [1. 0. 0. 1. 1.]\n",
      "  foak: [4.5678571e-35 0.0000000e+00 0.0000000e+00 4.4057775e-32 3.9170865e-24]\n",
      "  sofs: [0.0000000e+00 3.2347707e-22 0.0000000e+00 0.0000000e+00 0.0000000e+00]\n",
      "  flush: [0.000000e+00 0.000000e+00 8.919007e-34 0.000000e+00 0.000000e+00]\n",
      "  hand type: hand.three of a kind\n",
      "hand:  [6♦, J♣, 7♠, 3♣, 10♥]\n",
      "pred:  {'pair': tensor([-100.8473,  -95.2242,  -94.8169,  -95.7845, -120.8924]), 'toak': tensor([-163.4987, -179.2884, -171.9953, -167.8757, -193.2307]), 'foak': tensor([-336.8581, -380.4044, -374.0826, -344.9193, -412.5626]), 'sofs': tensor([-68.9875, -60.6157, -63.6929, -57.4328, -98.2932]), 'flush': tensor([ -82.4479,  -95.6570, -105.1204,  -83.5482, -107.8002]), 'type': tensor([-46.2434, -19.0863, -37.1106, -19.0866,  -4.4852, -16.4961, -88.2232,\n",
      "        -14.2964,   3.1843])}\n",
      "pred results:\n",
      "  pair: [0. 0. 0. 0. 0.]\n",
      "  toak: [0. 0. 0. 0. 0.]\n",
      "  foak: [0. 0. 0. 0. 0.]\n",
      "  sofs: [1.0941869e-30 4.7310146e-27 2.1802822e-28 1.1409327e-25 0.0000000e+00]\n",
      "  flush: [1.5606992e-36 0.0000000e+00 0.0000000e+00 5.1935789e-37 0.0000000e+00]\n",
      "  hand type: hand.high card\n",
      "hand:  [3♠, 3♦, A♥, 9♠, A♠]\n",
      "pred:  {'pair': tensor([  10.3711,   15.7028,   17.0287, -162.4417,   17.5066]), 'toak': tensor([-105.0450, -110.3415,  -89.5160, -205.5042,  -94.6197]), 'foak': tensor([-256.8827, -292.0952, -247.2321, -388.5781, -256.3171]), 'sofs': tensor([ -28.1397,  -32.2833,  -58.6363, -159.3072,  -56.6654]), 'flush': tensor([ -83.8523, -113.1209,  -90.4711,  -62.3720,  -92.3650]), 'type': tensor([-89.8883, -35.0108,   6.9783, -14.3442, -22.0781, -40.2246,  42.7884,\n",
      "         25.7887, -15.0714])}\n",
      "pred results:\n",
      "  pair: [0.99996865 0.9999999  1.         0.         1.        ]\n",
      "  toak: [0. 0. 0. 0. 0.]\n",
      "  foak: [0. 0. 0. 0. 0.]\n",
      "  sofs: [6.0131473e-13 9.5393782e-15 3.4244208e-26 0.0000000e+00 2.4576155e-25]\n",
      "  flush: [3.8318433e-37 0.0000000e+00 0.0000000e+00 8.1695926e-28 0.0000000e+00]\n",
      "  hand type: hand.two pair\n",
      "hand:  [8♦, 8♣, 8♥, Q♣, Q♥]\n",
      "pred:  {'pair': tensor([-69.0791, -75.3892, -72.9975,  17.9686,  19.2430]), 'toak': tensor([  14.4910,   11.1417,   17.4202,  -91.1821, -101.8928]), 'foak': tensor([ -23.9413,  -17.4072,  -33.9268, -272.1484, -299.1696]), 'sofs': tensor([-224.4602, -231.3533, -243.1754,  -42.5643,  -44.0113]), 'flush': tensor([-119.3362, -123.4526, -131.8779, -118.6677, -126.9488]), 'type': tensor([-84.5057, -19.7532,  15.1138, -13.3093, -24.7123,  -3.2651, -10.5434,\n",
      "         -1.4740, -14.3207])}\n",
      "pred results:\n",
      "  pair: [9.9845239e-31 1.8150165e-33 1.9841888e-32 1.0000000e+00 1.0000000e+00]\n",
      "  toak: [0.9999995  0.99998546 1.         0.         0.        ]\n",
      "  foak: [4.0033702e-11 2.7552169e-08 1.8440024e-15 0.0000000e+00 0.0000000e+00]\n",
      "  sofs: [0.0000000e+00 0.0000000e+00 0.0000000e+00 3.2701107e-19 7.6933548e-20]\n",
      "  flush: [0. 0. 0. 0. 0.]\n",
      "  hand type: hand.full house\n",
      "hand:  [2♠, Q♠, 2♦, 2♥, 7♦]\n",
      "pred:  {'pair': tensor([ -19.7706,  -88.7727,  -10.7681,  -22.0320, -179.8268]), 'toak': tensor([  17.9769, -166.1074,    9.6455,   19.9457, -230.6321]), 'foak': tensor([ -82.1852, -352.9054,  -96.8951,  -82.4170, -444.4379]), 'sofs': tensor([-159.4108,  -80.2843, -162.7717, -164.1071, -161.5231]), 'flush': tensor([ -95.1544,  -85.8864,  -93.8733, -100.1022,  -83.7384]), 'type': tensor([-63.6271, -11.3792,  -9.6632, -19.8037, -17.8845,  13.7764, -90.1514,\n",
      "        -30.0287,  -3.6481])}\n",
      "pred results:\n",
      "  pair: [2.5926283e-09 0.0000000e+00 2.1061183e-05 2.7015934e-10 0.0000000e+00]\n",
      "  toak: [1.         0.         0.99993527 1.         0.        ]\n",
      "  foak: [2.0297358e-36 0.0000000e+00 0.0000000e+00 1.6097252e-36 0.0000000e+00]\n",
      "  sofs: [0.0000000e+00 1.3581806e-35 0.0000000e+00 0.0000000e+00 0.0000000e+00]\n",
      "  flush: [0.0000000e+00 5.0121924e-38 0.0000000e+00 0.0000000e+00 4.2940475e-37]\n",
      "  hand type: hand.three of a kind\n",
      "hand:  [3♥, 3♠, 5♣, 6♣, 6♠]\n",
      "pred:  {'pair': tensor([ 17.7296,  16.6464, -88.9430,  15.0771,  15.0256]), 'toak': tensor([ -37.4265,  -29.2959, -156.7329,  -90.7102,  -85.9979]), 'foak': tensor([-186.9369, -164.7179, -341.3441, -247.9270, -239.3826]), 'sofs': tensor([-130.9496, -128.3585,  -68.2314,  -31.9812,  -29.9330]), 'flush': tensor([-115.3006, -106.7700,  -94.6266,  -95.9622,  -98.4320]), 'type': tensor([-87.4013, -35.6619,   6.8219, -16.3426, -22.5770, -39.7663,  41.8305,\n",
      "         25.0524, -15.6756])}\n",
      "pred results:\n",
      "  pair: [1.         1.         0.         0.99999976 0.99999964]\n",
      "  toak: [5.5704659e-17 1.8920956e-13 0.0000000e+00 0.0000000e+00 4.4833468e-38]\n",
      "  foak: [0. 0. 0. 0. 0.]\n",
      "  sofs: [0.0000000e+00 0.0000000e+00 2.3306641e-30 1.2905005e-14 1.0006135e-13]\n",
      "  flush: [0. 0. 0. 0. 0.]\n",
      "  hand type: hand.two pair\n",
      "hand:  [6♥, Q♥, 3♥, 8♥, 2♥]\n",
      "pred:  {'pair': tensor([-152.5620, -163.8704, -157.8659, -173.6296,  -99.5258]), 'toak': tensor([-176.7594, -206.5701, -193.5651, -192.2032, -140.0177]), 'foak': tensor([-285.6689, -351.8392, -312.2398, -308.8607, -232.7046]), 'sofs': tensor([-109.0206, -127.9752, -100.3190, -129.2299,  -49.6369]), 'flush': tensor([20.9496, 18.1675, 21.9437, 20.6484, 16.6195]), 'type': tensor([  -4.9695,  -23.7001,  -49.8628,   13.0871,   -5.8100,  -22.5163,\n",
      "        -100.2767,  -19.2378,   -4.0644])}\n",
      "pred results:\n",
      "  pair: [0. 0. 0. 0. 0.]\n",
      "  toak: [0. 0. 0. 0. 0.]\n",
      "  foak: [0. 0. 0. 0. 0.]\n",
      "  sofs: [0.0000000e+00 0.0000000e+00 0.0000000e+00 0.0000000e+00 2.7732285e-22]\n",
      "  flush: [1.        1.        1.        1.        0.9999999]\n",
      "  hand type: hand.flush\n",
      "hand:  [Q♦, 2♦, 2♠, 2♣, 2♥]\n",
      "pred:  {'pair': tensor([ -97.9125,  -88.2291, -109.7495,  -99.8548, -104.8144]), 'toak': tensor([-172.8887,  -14.8510,  -22.6844,  -18.3060,  -17.9038]), 'foak': tensor([-367.3592,   16.6458,   21.8920,   19.4849,   19.6525]), 'sofs': tensor([ -88.2168, -223.8240, -256.4385, -243.6588, -254.0116]), 'flush': tensor([ -92.2794, -106.8170, -128.5347, -120.3741, -127.6510]), 'type': tensor([-71.2244,  24.3205, -25.7350,  -5.1041, -13.7513,  -6.4301, -74.9949,\n",
      "        -18.5553,   7.1146])}\n",
      "pred results:\n",
      "  pair: [0.000000e+00 4.815011e-39 0.000000e+00 0.000000e+00 0.000000e+00]\n",
      "  toak: [0.0000000e+00 3.5506636e-07 1.4070271e-10 1.1215285e-08 1.6767363e-08]\n",
      "  foak: [0. 1. 1. 1. 1.]\n",
      "  sofs: [4.874669e-39 0.000000e+00 0.000000e+00 0.000000e+00 0.000000e+00]\n",
      "  flush: [0. 0. 0. 0. 0.]\n",
      "  hand type: hand.four of a kind\n",
      "hand:  [7♠, 6♠, 9♣, Q♣, K♦]\n",
      "pred:  {'pair': tensor([-145.7135,  -98.7803,  -80.9150,  -77.6893,  -88.9345]), 'toak': tensor([-201.7752, -170.1299, -150.2548, -168.0505, -177.6309]), 'foak': tensor([-407.0287, -359.3313, -312.3723, -347.5947, -377.6252]), 'sofs': tensor([-122.0505,  -64.6280,  -55.2299,  -38.4128,  -54.4310]), 'flush': tensor([-95.9923, -96.2448, -72.9683, -77.9294, -97.6556]), 'type': tensor([-46.2434, -19.0863, -37.1106, -19.0866,  -4.4852, -16.4961, -88.2232,\n",
      "        -14.2964,   3.1843])}\n",
      "pred results:\n",
      "  pair: [0.0000000e+00 0.0000000e+00 7.2289990e-36 1.8196395e-34 0.0000000e+00]\n",
      "  toak: [0. 0. 0. 0. 0.]\n",
      "  foak: [0. 0. 0. 0. 0.]\n",
      "  sofs: [0.0000000e+00 8.5591414e-29 1.0327112e-24 2.0774457e-17 2.2956580e-24]\n",
      "  flush: [0.000000e+00 0.000000e+00 2.042961e-32 1.431142e-34 0.000000e+00]\n",
      "  hand type: hand.high card\n",
      "hand:  [6♦, 3♠, 2♦, 4♠, 5♦]\n",
      "pred:  {'pair': tensor([-175.8886,  -73.5291,  -37.0424, -116.3688, -127.6515]), 'toak': tensor([-224.6494, -167.5617, -135.3593, -199.0026, -191.6525]), 'foak': tensor([-405.0365, -353.0140, -269.9775, -393.6300, -360.0077]), 'sofs': tensor([-157.8758,  -45.0126,    5.2554,  -93.4982, -102.1334]), 'flush': tensor([-35.5753, -82.9345, -35.3660, -72.4408, -46.0631]), 'type': tensor([-13.7230, -26.5884, -41.9920, -28.8627,   6.6779, -14.4032, -92.4931,\n",
      "        -14.3499,  -1.9003])}\n",
      "pred results:\n",
      "  pair: [0.00000000e+00 1.16610634e-32 8.17902492e-17 0.00000000e+00\n",
      " 0.00000000e+00]\n",
      "  toak: [0. 0. 0. 0. 0.]\n",
      "  foak: [0. 0. 0. 0. 0.]\n",
      "  sofs: [0.0000000e+00 2.8266125e-20 9.9480802e-01 0.0000000e+00 0.0000000e+00]\n",
      "  flush: [3.5467940e-16 9.5936462e-37 4.3726779e-16 3.4622264e-32 9.8863754e-21]\n",
      "  hand type: hand.straight\n"
     ]
    },
    {
     "name": "stderr",
     "output_type": "stream",
     "text": [
      "/home/fang/anaconda3/envs/pytorch/lib/python3.8/site-packages/torch/nn/functional.py:1806: UserWarning: nn.functional.sigmoid is deprecated. Use torch.sigmoid instead.\n",
      "  warnings.warn(\"nn.functional.sigmoid is deprecated. Use torch.sigmoid instead.\")\n"
     ]
    }
   ],
   "source": [
    "batch = mds10k[:10]\n",
    "with torch.no_grad():\n",
    "    pred, loss, losses = model(batch)\n",
    "    for i in range(len(batch)):\n",
    "        print(\"hand: \", batch[i][\"hand\"])\n",
    "        print(\"pred: \", {k:v[i].cpu() for k, v, in pred.items()})\n",
    "        print(\"pred results:\")\n",
    "        for k in [\"pair\", \"toak\", \"foak\", \"sofs\", \"flush\"]:\n",
    "            print(\"  {}: {}\".format(k, torch.nn.functional.sigmoid(pred[k][i]).cpu().numpy()))\n",
    "        print(\"  hand type: {}\".format(HAND_NAMES[torch.argmax(pred[\"type\"][i], dim=-1)]))"
   ]
  },
  {
   "cell_type": "code",
   "execution_count": 66,
   "id": "0ba72dcb",
   "metadata": {},
   "outputs": [],
   "source": [
    "# Confusion matrix: [[TP, FN], [FP, TN]]\n",
    "def binary_confusion(preds, labels):\n",
    "    return np.array([[torch.logical_and(preds > 0.0, labels).sum(), \n",
    "                      torch.logical_and(preds <= 0.0, labels).sum()],\n",
    "                     [torch.logical_and(preds > 0.0, torch.logical_not(labels)).sum(),\n",
    "                      torch.logical_and(preds <= 0.0, torch.logical_not(labels)).sum()]], dtype=int)\n",
    "\n",
    "def type_confusion(preds, labels):\n",
    "    confusion = np.zeros([9, 9], dtype=int)\n",
    "    preds, labels = torch.argmax(preds, dim=-1).flatten(), torch.flatten(labels)\n",
    "    combinations, counts = torch.unique(torch.stack([preds, labels], dim=1), dim=0, return_counts=True)\n",
    "    confusion[combinations[:, 1].cpu(), combinations[:, 0].cpu()] = counts.cpu()\n",
    "    return confusion\n",
    "\n",
    "def eval_accuracy(model, dataset):\n",
    "    val_dataloader = DataLoader(dataset, batch_size=16, collate_fn=collate_data)\n",
    "    confusion = {\"pair\":np.zeros([2, 2], dtype=int), \"toak\":np.zeros([2, 2], dtype=int), \n",
    "                 \"foak\":np.zeros([2, 2], dtype=int), \"sofs\":np.zeros([2, 2], dtype=int),\n",
    "                 \"flush\":np.zeros([2, 2], dtype=int), \"type\":np.zeros([9, 9], dtype=int)}\n",
    "    correct_counts = {\"pair\":0, \"toak\":0, \"foak\":0, \"sofs\":0, \"flush\":0, \"type\":0}\n",
    "    with torch.no_grad():\n",
    "        with tqdm(val_dataloader) as t:\n",
    "            for batch in t:\n",
    "                pred, loss, losses = model(batch)\n",
    "                labels = {k:torch.stack([torch.tensor(h[k], dtype=torch.bool) for h in batch], dim=0).to(DEVICE)\n",
    "                    for k in batch[0].keys() if k != \"hand\" and k != \"hand_type\"}  # [B, 5]\n",
    "                labels[\"hand_type\"] = torch.stack([torch.tensor(h[\"hand_type\"].value) for h in batch]).to(DEVICE)  # [B]\n",
    "                confusion[\"pair\"] += binary_confusion(pred[\"pair\"], labels[\"is_in_pair\"])\n",
    "                confusion[\"toak\"] += binary_confusion(pred[\"toak\"], labels[\"is_in_toak\"])\n",
    "                confusion[\"foak\"] += binary_confusion(pred[\"foak\"], labels[\"is_in_foak\"])\n",
    "                confusion[\"sofs\"] += binary_confusion(pred[\"sofs\"], labels[\"is_start_of_straight\"])\n",
    "                confusion[\"flush\"] += binary_confusion(pred[\"flush\"], labels[\"is_in_flush\"])\n",
    "                confusion[\"type\"] += type_confusion(pred[\"type\"], labels[\"hand_type\"])\n",
    "\n",
    "    for k, c in confusion.items():\n",
    "        if k != \"type\":\n",
    "            print(\"{}: precision {:.2f}% recall {:.2f}% accuracy {:.2f}% positive labels {:.2f}%\".format(\n",
    "                k, c[0, 0] / (c[0, 0] + c[1, 0]) * 100, c[0, 0] / (c[0, 0] + c[0, 1]) * 100,\n",
    "                (c[0, 0] + c[1, 1]) / c.sum() * 100, (c[0, 0] + c[0, 1]) / c.sum() * 100))\n",
    "        else:\n",
    "            print(\"{}: accuracy {:.2f}%\".format(k, np.diag(c).sum() / c.sum() * 100))\n",
    "            for i, hand_type in enumerate(HANDS):\n",
    "                print(\"    {:15s}: accuracy {:.2f}% labels {:.2f}%\".format(\n",
    "                    hand_type.name, c[i, i] / c[i].sum() * 100, c[i].sum() / c.sum() * 100))\n"
   ]
  },
  {
   "cell_type": "code",
   "execution_count": 67,
   "id": "569e4473",
   "metadata": {
    "tags": []
   },
   "outputs": [
    {
     "name": "stderr",
     "output_type": "stream",
     "text": [
      "100%|██████████| 625/625 [00:03<00:00, 157.62it/s]"
     ]
    },
    {
     "name": "stdout",
     "output_type": "stream",
     "text": [
      "pair: precision 100.00% recall 100.00% accuracy 100.00% positive labels 19.78%\n",
      "toak: precision 100.00% recall 100.00% accuracy 100.00% positive labels 12.18%\n",
      "foak: precision 100.00% recall 100.00% accuracy 100.00% positive labels 7.99%\n",
      "sofs: precision 96.91% recall 99.91% accuracy 99.93% positive labels 2.20%\n",
      "flush: precision 99.97% recall 100.00% accuracy 100.00% positive labels 11.62%\n",
      "type: accuracy 99.99%\n",
      "    straight flush : accuracy 100.00% labels 1.07%\n",
      "    four of a kind : accuracy 100.00% labels 9.99%\n",
      "    full house     : accuracy 100.00% labels 9.69%\n",
      "    flush          : accuracy 100.00% labels 10.55%\n",
      "    straight       : accuracy 99.90% labels 9.92%\n",
      "    three of a kind: accuracy 100.00% labels 10.61%\n",
      "    two pair       : accuracy 100.00% labels 10.86%\n",
      "    one pair       : accuracy 100.00% labels 18.04%\n",
      "    high card      : accuracy 100.00% labels 19.27%\n"
     ]
    },
    {
     "name": "stderr",
     "output_type": "stream",
     "text": [
      "\n"
     ]
    }
   ],
   "source": [
    "eval_accuracy(model, mds10k)"
   ]
  },
  {
   "cell_type": "code",
   "execution_count": null,
   "id": "b19400ae",
   "metadata": {},
   "outputs": [],
   "source": []
  },
  {
   "cell_type": "code",
   "execution_count": null,
   "id": "4160e72c",
   "metadata": {},
   "outputs": [],
   "source": []
  },
  {
   "cell_type": "markdown",
   "id": "2937669b",
   "metadata": {},
   "source": [
    "## Hand-crafted model\n",
    "\n",
    "A `HandClassifier` model built with hand-crafted hyper-parameters and network parameters.\n",
    "- Transformer encoder multi-headed attention hyper-parameters:\n",
    "  - Number of heads: 6\n",
    "  - Key/query size: 13 per head (78 in total)\n",
    "  - Value size: 1 per head (6 in total)\n",
    "  - Feedforward hidden layer size: 6\n",
    "- Binary classifier hyper-parameters:\n",
    "  - Hidden layer size: 4\n",
    "- Type classifier hyper-parameters:\n",
    "  - Hidden layer size: 25\n",
    "\n",
    "The model parameters can be downloaded here:\n",
    "- hand_crafted_model.pt: [Google Drive](https://drive.google.com/file/d/1o03VEvMGQcrmLWff_EnX1ytwpYLBeX3O/view?usp=sharing)"
   ]
  },
  {
   "cell_type": "code",
   "execution_count": 68,
   "id": "18b4f28e",
   "metadata": {},
   "outputs": [],
   "source": [
    "import copy"
   ]
  },
  {
   "cell_type": "code",
   "execution_count": 69,
   "id": "bbe1a440",
   "metadata": {},
   "outputs": [
    {
     "data": {
      "text/plain": [
       "HandClassifier(\n",
       "  (backbone): MultiHeadedAttentionBackbone(\n",
       "    (proj_key): Linear(in_features=17, out_features=78, bias=True)\n",
       "    (proj_query): Linear(in_features=17, out_features=78, bias=True)\n",
       "    (proj_value): Linear(in_features=17, out_features=6, bias=True)\n",
       "    (linear1): Linear(in_features=6, out_features=6, bias=True)\n",
       "    (linear2): Linear(in_features=6, out_features=6, bias=True)\n",
       "    (act): ReLU()\n",
       "  )\n",
       "  (pred_pair): BinaryPredictor(\n",
       "    (linear1): Linear(in_features=6, out_features=4, bias=True)\n",
       "    (linear2): Linear(in_features=4, out_features=1, bias=True)\n",
       "    (act): ReLU()\n",
       "  )\n",
       "  (pred_toak): BinaryPredictor(\n",
       "    (linear1): Linear(in_features=6, out_features=4, bias=True)\n",
       "    (linear2): Linear(in_features=4, out_features=1, bias=True)\n",
       "    (act): ReLU()\n",
       "  )\n",
       "  (pred_foak): BinaryPredictor(\n",
       "    (linear1): Linear(in_features=6, out_features=4, bias=True)\n",
       "    (linear2): Linear(in_features=4, out_features=1, bias=True)\n",
       "    (act): ReLU()\n",
       "  )\n",
       "  (pred_sofs): BinaryPredictor(\n",
       "    (linear1): Linear(in_features=6, out_features=4, bias=True)\n",
       "    (linear2): Linear(in_features=4, out_features=1, bias=True)\n",
       "    (act): ReLU()\n",
       "  )\n",
       "  (pred_flush): BinaryPredictor(\n",
       "    (linear1): Linear(in_features=6, out_features=4, bias=True)\n",
       "    (linear2): Linear(in_features=4, out_features=1, bias=True)\n",
       "    (act): ReLU()\n",
       "  )\n",
       "  (pred_type): TypePredictor(\n",
       "    (linear1): Linear(in_features=25, out_features=25, bias=True)\n",
       "    (linear2): Linear(in_features=25, out_features=9, bias=True)\n",
       "    (act): ReLU()\n",
       "  )\n",
       "  (binary_loss): BCEWithLogitsLoss()\n",
       "  (type_loss): CrossEntropyLoss()\n",
       ")"
      ]
     },
     "execution_count": 69,
     "metadata": {},
     "output_type": "execute_result"
    }
   ],
   "source": [
    "hmodel = HandClassifier(\n",
    "    backbone=lambda: MultiHeadedAttentionBackbone(num_heads=6, feature_size=6, kdim=78, vdim=6, hidden_size=6), \n",
    "    binary_predictor=lambda feature_size: BinaryPredictor(feature_size, hidden_size=4),\n",
    "    type_predictor=lambda: TypePredictor(hidden_size=25))\n",
    "hmodel"
   ]
  },
  {
   "cell_type": "code",
   "execution_count": 70,
   "id": "26d2876f",
   "metadata": {},
   "outputs": [],
   "source": [
    "# Backbone weights\n",
    "# attention output channels:\n",
    "#  - count of cards of the same rank in the hand\n",
    "#  - count of cards of the same suit in the hand\n",
    "#  - count of cards one rank higher in the hand\n",
    "#  - count of cards two ranks higher in the hand\n",
    "#  - count of cards three ranks higher in the hand\n",
    "#  - count of cards four ranks higher in the hand\n",
    "w = torch.zeros(78, 17)\n",
    "w[:13, :13] = torch.eye(13, 13)  # picks out the rank\n",
    "w[13:17, 13:] = torch.eye(4, 4)  # picks out the suit\n",
    "w[26:39, :13] = torch.eye(13, 13)  # picks out the rank\n",
    "w[39:52, :13] = torch.eye(13, 13)  # picks out the rank\n",
    "w[52:65, :13] = torch.eye(13, 13)  # picks out the rank\n",
    "w[65:78, :13] = torch.eye(13, 13)  # picks out the rank\n",
    "b = torch.zeros(78)\n",
    "hmodel.backbone.proj_key.weight = nn.Parameter(w)\n",
    "hmodel.backbone.proj_key.bias = nn.Parameter(b)\n",
    "\n",
    "w = torch.zeros(78, 17)\n",
    "w[:13, :13] = torch.eye(13, 13)  # picks out the rank\n",
    "w[13:17, 13:] = torch.eye(4, 4)  # picks out the suit\n",
    "w[26:39, :13] = torch.diag(torch.ones(12), diagonal=-1)  # rank + 1\n",
    "w[39:52, :13] = torch.diag(torch.ones(11), diagonal=-2)  # rank + 2\n",
    "w[52:65, :13] = torch.diag(torch.ones(10), diagonal=-3)  # rank + 3\n",
    "w[65:78, :13] = torch.diag(torch.ones(9), diagonal=-4)  # rank + 4\n",
    "b = torch.zeros(78)\n",
    "hmodel.backbone.proj_query.weight = nn.Parameter(w)\n",
    "hmodel.backbone.proj_query.bias = nn.Parameter(b)\n",
    "\n",
    "hmodel.backbone.proj_value.weight = nn.Parameter(torch.zeros(6, 17))\n",
    "hmodel.backbone.proj_value.bias = nn.Parameter(torch.ones(6))\n",
    "\n",
    "# trivial feedforward\n",
    "hmodel.backbone.linear1.weight = nn.Parameter(torch.eye(6, 6))\n",
    "hmodel.backbone.linear1.bias = nn.Parameter(torch.zeros(6))\n",
    "\n",
    "hmodel.backbone.linear2.weight = nn.Parameter(torch.eye(6, 6))\n",
    "hmodel.backbone.linear2.bias = nn.Parameter(torch.zeros(6))"
   ]
  },
  {
   "cell_type": "code",
   "execution_count": 71,
   "id": "5fa7e7f2",
   "metadata": {},
   "outputs": [],
   "source": [
    "# pred_pair weights\n",
    "w = torch.zeros(4, 6)\n",
    "w[0, 0] = -1\n",
    "w[1, 0] = 1\n",
    "b = torch.zeros(4)\n",
    "b[0] = 2\n",
    "b[1] = -2\n",
    "hmodel.pred_pair.linear1.weight = nn.Parameter(w)\n",
    "hmodel.pred_pair.linear1.bias = nn.Parameter(b)\n",
    "\n",
    "w = torch.zeros(1, 4)\n",
    "w[0, 0] = -2\n",
    "w[0, 1] = -2\n",
    "b = torch.zeros(1)\n",
    "b[0] = 1\n",
    "hmodel.pred_pair.linear2.weight = nn.Parameter(w)\n",
    "hmodel.pred_pair.linear2.bias = nn.Parameter(b)"
   ]
  },
  {
   "cell_type": "code",
   "execution_count": 72,
   "id": "934cc634",
   "metadata": {},
   "outputs": [],
   "source": [
    "# pred_toak weights\n",
    "w = torch.zeros(4, 6)\n",
    "w[0, 0] = -1\n",
    "w[1, 0] = 1\n",
    "b = torch.zeros(4)\n",
    "b[0] = 3\n",
    "b[1] = -3\n",
    "hmodel.pred_toak.linear1.weight = nn.Parameter(w)\n",
    "hmodel.pred_toak.linear1.bias = nn.Parameter(b)\n",
    "\n",
    "w = torch.zeros(1, 4)\n",
    "w[0, 0] = -2\n",
    "w[0, 1] = -2\n",
    "b = torch.zeros(1)\n",
    "b[0] = 1\n",
    "hmodel.pred_toak.linear2.weight = nn.Parameter(w)\n",
    "hmodel.pred_toak.linear2.bias = nn.Parameter(b)"
   ]
  },
  {
   "cell_type": "code",
   "execution_count": 73,
   "id": "402a58d1",
   "metadata": {},
   "outputs": [],
   "source": [
    "# pred_foak weights\n",
    "w = torch.zeros(4, 6)\n",
    "w[0, 0] = -1\n",
    "w[1, 0] = 1\n",
    "b = torch.zeros(4)\n",
    "b[0] = 4\n",
    "b[1] = -4\n",
    "hmodel.pred_foak.linear1.weight = nn.Parameter(w)\n",
    "hmodel.pred_foak.linear1.bias = nn.Parameter(b)\n",
    "\n",
    "w = torch.zeros(1, 4)\n",
    "w[0, 0] = -2\n",
    "w[0, 1] = -2\n",
    "b = torch.zeros(1)\n",
    "b[0] = 1\n",
    "hmodel.pred_foak.linear2.weight = nn.Parameter(w)\n",
    "hmodel.pred_foak.linear2.bias = nn.Parameter(b)"
   ]
  },
  {
   "cell_type": "code",
   "execution_count": 74,
   "id": "e6777a3f",
   "metadata": {},
   "outputs": [],
   "source": [
    "# pred_sofs weights\n",
    "hmodel.pred_sofs.linear1.weight = nn.Parameter(-torch.diag(torch.ones(4), diagonal=2)[:4])\n",
    "hmodel.pred_sofs.linear1.bias = nn.Parameter(torch.ones(4))\n",
    "\n",
    "w = -torch.ones(4).view(1, 4) * 2\n",
    "b = torch.zeros(1)\n",
    "b[0] = 1\n",
    "hmodel.pred_sofs.linear2.weight = nn.Parameter(w)\n",
    "hmodel.pred_sofs.linear2.bias = nn.Parameter(b)"
   ]
  },
  {
   "cell_type": "code",
   "execution_count": 75,
   "id": "7e0ccc39",
   "metadata": {},
   "outputs": [],
   "source": [
    "# pred_flush weights\n",
    "w = torch.zeros(4, 6)\n",
    "w[0, 1] = -1\n",
    "w[1, 1] = 1\n",
    "b = torch.zeros(4)\n",
    "b[0] = 5\n",
    "b[1] = -5\n",
    "hmodel.pred_flush.linear1.weight = nn.Parameter(w)\n",
    "hmodel.pred_flush.linear1.bias = nn.Parameter(b)\n",
    "\n",
    "w = torch.zeros(1, 4)\n",
    "w[0, 0] = -2\n",
    "w[0, 1] = -2\n",
    "b = torch.zeros(1)\n",
    "b[0] = 1\n",
    "hmodel.pred_flush.linear2.weight = nn.Parameter(w)\n",
    "hmodel.pred_flush.linear2.bias = nn.Parameter(b)"
   ]
  },
  {
   "cell_type": "code",
   "execution_count": 76,
   "id": "e63f190f",
   "metadata": {},
   "outputs": [],
   "source": [
    "# pred_type weights\n",
    "hmodel.pred_type.linear1.weight = nn.Parameter(torch.eye(25, 25))\n",
    "hmodel.pred_type.linear1.bias = nn.Parameter(torch.zeros(25))\n",
    "\n",
    "w = torch.zeros(9, 25)\n",
    "b = torch.zeros(9)\n",
    "# straight flush\n",
    "w[0, 3::5] = 2\n",
    "w[0, 4::5] = 2\n",
    "b[0] = -10\n",
    "# four of a kind\n",
    "w[1, 2::5] = 1\n",
    "b[1] = -3\n",
    "# full house\n",
    "w[2, 0::5] = 2\n",
    "w[2, 1::5] = 2\n",
    "b[2] = -8\n",
    "# flush\n",
    "w[3, 4::5] = 1\n",
    "b[3] = -4\n",
    "# straight\n",
    "w[4, 3::5] = 1\n",
    "b[4] = 0\n",
    "# three of a kind\n",
    "w[5, 1::5] = 1\n",
    "b[5] = -2\n",
    "# two pair\n",
    "w[6, 0::5] = 3\n",
    "b[6] = -8\n",
    "# one pair\n",
    "w[7, 0::5] = 1\n",
    "b[7] = -1\n",
    "b[8] = 0.5\n",
    "hmodel.pred_type.linear2.weight = nn.Parameter(w)\n",
    "hmodel.pred_type.linear2.bias = nn.Parameter(b)"
   ]
  },
  {
   "cell_type": "code",
   "execution_count": 77,
   "id": "06ce6a02",
   "metadata": {},
   "outputs": [
    {
     "name": "stderr",
     "output_type": "stream",
     "text": [
      "100%|██████████| 625/625 [00:03<00:00, 157.16it/s]"
     ]
    },
    {
     "name": "stdout",
     "output_type": "stream",
     "text": [
      "pair: precision 100.00% recall 100.00% accuracy 100.00% positive labels 19.78%\n",
      "toak: precision 100.00% recall 100.00% accuracy 100.00% positive labels 12.18%\n",
      "foak: precision 100.00% recall 100.00% accuracy 100.00% positive labels 7.99%\n",
      "sofs: precision 100.00% recall 100.00% accuracy 100.00% positive labels 2.20%\n",
      "flush: precision 100.00% recall 100.00% accuracy 100.00% positive labels 11.62%\n",
      "type: accuracy 100.00%\n",
      "    straight flush : accuracy 100.00% labels 1.07%\n",
      "    four of a kind : accuracy 100.00% labels 9.99%\n",
      "    full house     : accuracy 100.00% labels 9.69%\n",
      "    flush          : accuracy 100.00% labels 10.55%\n",
      "    straight       : accuracy 100.00% labels 9.92%\n",
      "    three of a kind: accuracy 100.00% labels 10.61%\n",
      "    two pair       : accuracy 100.00% labels 10.86%\n",
      "    one pair       : accuracy 100.00% labels 18.04%\n",
      "    high card      : accuracy 100.00% labels 19.27%\n"
     ]
    },
    {
     "name": "stderr",
     "output_type": "stream",
     "text": [
      "\n"
     ]
    }
   ],
   "source": [
    "hmodel = hmodel.to(DEVICE)\n",
    "eval_accuracy(hmodel, mds10k)"
   ]
  },
  {
   "cell_type": "code",
   "execution_count": null,
   "id": "4c042698",
   "metadata": {},
   "outputs": [],
   "source": []
  },
  {
   "cell_type": "code",
   "execution_count": null,
   "id": "f23edbf8-5b41-4ea6-8d88-f567e806f977",
   "metadata": {},
   "outputs": [],
   "source": []
  }
 ],
 "metadata": {
  "kernelspec": {
   "display_name": "Python 3",
   "language": "python",
   "name": "python3"
  },
  "language_info": {
   "codemirror_mode": {
    "name": "ipython",
    "version": 3
   },
   "file_extension": ".py",
   "mimetype": "text/x-python",
   "name": "python",
   "nbconvert_exporter": "python",
   "pygments_lexer": "ipython3",
   "version": "3.8.5"
  }
 },
 "nbformat": 4,
 "nbformat_minor": 5
}
